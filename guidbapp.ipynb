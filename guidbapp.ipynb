{
 "cells": [
  {
   "cell_type": "code",
   "execution_count": 1,
   "id": "ada2282e",
   "metadata": {},
   "outputs": [],
   "source": [
    "import sqlite3\n",
    "from tkinter import *\n",
    "import sys"
   ]
  },
  {
   "cell_type": "code",
   "execution_count": 2,
   "id": "1d58c626",
   "metadata": {},
   "outputs": [],
   "source": [
    "def chgMsg(msg):\n",
    "    labelMsg.configure(text=msg)\n",
    "    \n",
    "def save():\n",
    "    newname = studentName.get()\n",
    "    newphone = studentPhone.get()\n",
    "    cursor.execute(\"INSERT INTO table1(name, phone) VALUES(?,?)\",(newname, newphone))\n",
    "    db.commit()\n",
    "    studentName.delete(0,END)\n",
    "    studentPhone.delete(0,END)\n",
    "    studentName.focus()\n",
    "    chgMsg(\"save...\")\n",
    "    \n",
    "\n",
    "def reset():\n",
    "    studentName.delete(0,END)\n",
    "    studentPhone.delete(0,END)\n",
    "    studentName.focus()\n",
    "    chgMsg(\"clear...\")\n",
    "\n",
    "def search():\n",
    "    srchname = studentName.get()\n",
    "    cursor.execute(\"SELECT * FROM table1 WHERE name = '%s'\" % srchname)\n",
    "    row = cursor.fetchone()\n",
    "    studentPhone.insert(0,row[2])\n",
    "    chgMsg(\"searched...\")\n",
    "    \n",
    "def update():\n",
    "    srchname = studentName.get()\n",
    "    newphone = studentPhone.get()\n",
    "    cursor.execute(\"UPDATE table1 SET phone = '%s' WHERE name = '%s'\" %(newphone, srchname))\n",
    "    studentName.delete(0,END)\n",
    "    studentPhone.delete(0,END)\n",
    "    studentName.focus()\n",
    "    chgMsg(\"updated...\")\n",
    "    \n",
    "def delete():\n",
    "    srchname = studentName.get()\n",
    "    cursor.execute(\"DELETE FROM table1 WHERE name = '%s'\" % srchname)\n",
    "    studentName.delete(0,END)\n",
    "    studentPhone.delete(0,END)\n",
    "    studentName.focus() \n",
    "    chgMsg(\"deleted...\")"
   ]
  },
  {
   "cell_type": "code",
   "execution_count": 3,
   "id": "67ba8365",
   "metadata": {},
   "outputs": [],
   "source": [
    "\n",
    "with sqlite3.connect(\"test.db\", isolation_level=None) as db :\n",
    "    cursor = db.cursor()\n",
    "   \n",
    "    cursor.execute(\"DROP TABLE IF EXISTS table1\")\n",
    "  \n",
    "    cursor.execute(\"CREATE TABLE IF NOT EXISTS table1(id INTEGER PRIMARY KEY, name TEXT, phone TEXT)\")\n",
    "    "
   ]
  },
  {
   "cell_type": "code",
   "execution_count": 4,
   "id": "89e14395",
   "metadata": {},
   "outputs": [],
   "source": [
    "window = Tk()   \n",
    "window.title(\"GUI and DB Programming\")\n",
    "window.geometry(\"500x400\")\n",
    "\n",
    "labelMsg = Label(text=\"...\")\n",
    "labelMsg.place(x=50, y=10)\n",
    "\n",
    "labelName = Label(text=\"Name : \")\n",
    "labelName.place(x=50, y=50)\n",
    "studentName = Entry(text=\"\")\n",
    "studentName.place(x=100, y=50, width=250, height=30)\n",
    "\n",
    "labelPhone = Label(text=\"Phone : \")\n",
    "labelPhone.place(x=50, y=100)\n",
    "studentPhone = Entry(text=\"\")\n",
    "studentPhone.place(x=100, y=100, width=250, height=30)\n",
    "\n",
    "btnSave = Button(text=\"Save\", command=save)\n",
    "btnSave.place(x=80, y=150, width=80, height=30)\n",
    "\n",
    "btnReset = Button(text=\"Reset\", command=reset)\n",
    "btnReset.place(x=180, y=150, width=80, height=30)\n",
    "\n",
    "btnSearch = Button(text=\"Search\", command=search)\n",
    "btnSearch.place(x=280, y=150, width=80, height=30)\n",
    "\n",
    "btnUpdate = Button(text=\"Update\", command=update)\n",
    "btnUpdate.place(x=80, y=200, width=80, height=30)\n",
    "\n",
    "btnDelete = Button(text=\"Delete\", command=delete)\n",
    "btnDelete.place(x=180, y=200, width=80, height=30)\n",
    "\n",
    "window.mainloop()"
   ]
  }
 ],
 "metadata": {
  "kernelspec": {
   "display_name": "Python 3",
   "language": "python",
   "name": "python3"
  },
  "language_info": {
   "codemirror_mode": {
    "name": "ipython",
    "version": 3
   },
   "file_extension": ".py",
   "mimetype": "text/x-python",
   "name": "python",
   "nbconvert_exporter": "python",
   "pygments_lexer": "ipython3",
   "version": "3.8.8"
  }
 },
 "nbformat": 4,
 "nbformat_minor": 5
}
