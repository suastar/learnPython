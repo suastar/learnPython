{
 "cells": [
  {
   "cell_type": "code",
   "execution_count": 1,
   "id": "ada2282e",
   "metadata": {},
   "outputs": [],
   "source": [
    "# DB(SQLite) 활용, GUI 어플리케이션을 제작한다.\n",
    "import sqlite3\n",
    "from tkinter import *\n"
   ]
  },
  {
   "cell_type": "code",
   "execution_count": 2,
   "id": "33e25d4d",
   "metadata": {},
   "outputs": [],
   "source": [
    "#필요로 하는 함수들 선언\n",
    "def save():\n",
    "    newname = studentName.get()\n",
    "    newphone = studentPhone.get()\n",
    "    cursor.execute(\"INSERT INTO table1(name, phone) VALUES(?,?)\", (newname, newphone))\n",
    "    db.commit()\n",
    "    studentName.delete(0,END)\n",
    "    studentPhone.delete(0,END)\n",
    "    studentName.focus()\n",
    "\n",
    "def reset():\n",
    "    pass\n",
    "\n",
    "def search():\n",
    "    pass"
   ]
  },
  {
   "cell_type": "code",
   "execution_count": 3,
   "id": "91e8de3c",
   "metadata": {},
   "outputs": [],
   "source": [
    "# 전체 프로그램의 시작 부분\n",
    "# 데이터 베이스 연결\n",
    "# 테이블이 있으면, 삭제하고\n",
    "# 테이블을 생성\n",
    "\n",
    "with sqlite3.connect(\"test.db\", isolation_level=None) as db :\n",
    "    cursor = db.cursor()\n",
    "     # 질의구문 SQL (데이터베이스에 질문을 던지는 것) : 테이블이 존재하면 삭제\n",
    "    cursor.execute(\"DROP TABLE IF EXISTS table1\")\n",
    "    # 테이블1(아이디,이름,전화번호) 생성\n",
    "    cursor.execute(\"CREATE TABLE IF NOT EXISTS table1(id INTEGER PRIMARY KEY, name TEXT, phone TEXT)\")\n",
    "    "
   ]
  },
  {
   "cell_type": "code",
   "execution_count": null,
   "id": "4f3364b6",
   "metadata": {},
   "outputs": [],
   "source": [
    "# GUI 프로그래밍이 뭐??\n",
    "window = Tk()   # Tk 클래스의 생성자를 이용, 윈도우 객체 생성\n",
    "window.title(\"GUI and DB Programming\")\n",
    "window.geometry(\"500x400\")\n",
    "\n",
    "labelName = Label(text=\"Name : \")\n",
    "labelName.place(x=50, y=50)\n",
    "studentName = Entry(text=\"\")\n",
    "studentName.place(x=100, y=50, width=200, height=30)\n",
    "\n",
    "labelPhone = Label(text=\"Phone : \")\n",
    "labelPhone.place(x=50, y=100)\n",
    "studentPhone = Entry(text=\"\")\n",
    "studentPhone.place(x=100, y=100, width=200, height=30)\n",
    "\n",
    "btnSave = Button(text=\"Save\", command=save)\n",
    "btnSave.place(x=80, y=150, width=80, height=30)\n",
    "\n",
    "btnReset = Button(text=\"Reset\", command=reset)\n",
    "btnReset.place(x=180, y=150, width=80, height=30)\n",
    "\n",
    "btnSearch = Button(text=\"Search\", command=search)\n",
    "btnSearch.place(x=280, y=150, width=80, height=30)\n",
    "\n",
    "window.mainloop()"
   ]
  }
 ],
 "metadata": {
  "kernelspec": {
   "display_name": "Python 3",
   "language": "python",
   "name": "python3"
  },
  "language_info": {
   "codemirror_mode": {
    "name": "ipython",
    "version": 3
   },
   "file_extension": ".py",
   "mimetype": "text/x-python",
   "name": "python",
   "nbconvert_exporter": "python",
   "pygments_lexer": "ipython3",
   "version": "3.8.8"
  }
 },
 "nbformat": 4,
 "nbformat_minor": 5
}
