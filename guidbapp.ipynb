{
 "cells": [
  {
   "cell_type": "code",
   "execution_count": null,
   "id": "ada2282e",
   "metadata": {},
   "outputs": [],
   "source": [
    "\n",
    "import sqlite3\n",
    "from tkinter import *\n"
   ]
  },
  {
   "cell_type": "code",
   "execution_count": null,
   "id": "d26829f7",
   "metadata": {},
   "outputs": [],
   "source": [
    "\n",
    "def save():\n",
    "    newname = studentName.get()\n",
    "    newphone = studentPhone.get()\n",
    "    cursor.execute(\"INSERT INTO table1(name, phone) VALUES(?,?)\", (newname, newphone))\n",
    "    db.commit()\n",
    "    studentName.delete(0,END)\n",
    "    studentPhone.delete(0,END)\n",
    "    studentName.focus()\n",
    "\n",
    "def reset():\n",
    "    studentName.delete(0,END)\n",
    "    studentPhone.delete(0,END)\n",
    "    studentName.focus()\n",
    "\n",
    "def search():\n",
    "    srchname = studentName.get()\n",
    "    cursor.execute(\"SELECT * FROM table1 WHERE name = '%s' \" % srchname)\n",
    "    row = cursor.fetchone()\n",
    "    studentPhone.insert(0, row[2])\n",
    "\n",
    "def update():\n",
    "    srchname = studentName.get()\n",
    "    newphone = studentPhone.get()\n",
    "    cursor.execute(\"UPDATE table1 SET phone = '%s' WHERE name = '%s'\"%('park',2))\n",
    "    db.commit()\n",
    "    studentName.delete(0,END)\n",
    "    studentPhone.delete(0,END)\n",
    "    studentName.focus()\n",
    "    \n",
    "    \n",
    "def delete():\n",
    "    cursor.execute(\"DELETE * FROM tabl1 WHERE name = '%s'\" %13)\n",
    "    db.commit()\n",
    "    "
   ]
  },
  {
   "cell_type": "code",
   "execution_count": null,
   "id": "f49e8dd3",
   "metadata": {},
   "outputs": [],
   "source": [
    "\n",
    "with sqlite3.connect(\"test.db\", isolation_level=None) as db :\n",
    "    cursor = db.cursor()\n",
    "   \n",
    "    cursor.execute(\"DROP TABLE IF EXISTS table1\")\n",
    "  \n",
    "    cursor.execute(\"CREATE TABLE IF NOT EXISTS table1(id INTEGER PRIMARY KEY, name TEXT, phone TEXT)\")\n",
    "    "
   ]
  },
  {
   "cell_type": "code",
   "execution_count": null,
   "id": "c6e85385",
   "metadata": {},
   "outputs": [],
   "source": [
    "\n",
    "window = Tk()\n",
    "window.title(\"GUI and DB Programming\")\n",
    "window.geometry(\"500x400\")\n",
    "\n",
    "\n",
    "labelName = Label(text=\"Name : \")\n",
    "labelName.place(x=50, y=50)\n",
    "studentName = Entry(text=\"\")\n",
    "studentName.place(x=100, y=50, width=200, height=30)\n",
    "\n",
    "labelPhone = Label(text=\"Phone : \")\n",
    "labelPhone.place(x=50, y=100)\n",
    "studentPhone = Entry(text=\"\")\n",
    "studentPhone.place(x=100, y=100, width=200, height=30)\n",
    "\n",
    "btnSave = Button(text=\"Save\", command=save)\n",
    "btnSave.place(x=80, y=150, width=80, height=30)\n",
    "\n",
    "btnReset = Button(text=\"Reset\", command=reset)\n",
    "btnReset.place(x=180, y=150, width=80, height=30)\n",
    "\n",
    "btnSearch = Button(text=\"Search\", command=search)\n",
    "btnSearch.place(x=280, y=150, width=80, height=30)\n",
    "\n",
    "btnupdate = Button(text=\"update\", command=update)\n",
    "btnupdate.place(x=80, y=250, width=80, height=30)\n",
    "\n",
    "btndelete = Button(text=\"delete\", command=delete)\n",
    "btndelete.place(x=180, y=250, width=80, height=30)\n",
    "\n",
    "window.mainloop()"
   ]
  }
 ],
 "metadata": {
  "kernelspec": {
   "display_name": "Python 3",
   "language": "python",
   "name": "python3"
  },
  "language_info": {
   "codemirror_mode": {
    "name": "ipython",
    "version": 3
   },
   "file_extension": ".py",
   "mimetype": "text/x-python",
   "name": "python",
   "nbconvert_exporter": "python",
   "pygments_lexer": "ipython3",
   "version": "3.8.8"
  }
 },
 "nbformat": 4,
 "nbformat_minor": 5
}
