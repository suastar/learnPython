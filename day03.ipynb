{
 "cells": [
  {
   "cell_type": "code",
   "execution_count": 2,
   "id": "f8902702",
   "metadata": {},
   "outputs": [
    {
     "name": "stdout",
     "output_type": "stream",
     "text": [
      "이름을 입력해주세요수아\n",
      "생년을 입력해주세요.1989\n",
      "수아 32\n",
      "수아님의 나이는32세 입니다.\n"
     ]
    }
   ],
   "source": [
    "# print() format 설정\n",
    "name = input(\"이름을 입력해주세요\")\n",
    "birthYear = int(input(\"생년을 입력해주세요.\"))\n",
    "age = 2021 - birthYear\n",
    "print(name, age)\n",
    "print(name + \"님의 나이는\" + str(age) + \"세 입니다.\")"
   ]
  },
  {
   "cell_type": "code",
   "execution_count": 4,
   "id": "b3c47e4c",
   "metadata": {},
   "outputs": [
    {
     "name": "stdout",
     "output_type": "stream",
     "text": [
      "수아님의 나이는 32세 입니다\n"
     ]
    }
   ],
   "source": [
    "print(f'{name}님의 나이는 {age}세 입니다')"
   ]
  },
  {
   "cell_type": "code",
   "execution_count": 10,
   "id": "2a931fbd",
   "metadata": {},
   "outputs": [
    {
     "name": "stdout",
     "output_type": "stream",
     "text": [
      "32님의 나이는 수아세 입니다\n"
     ]
    }
   ],
   "source": [
    "print('{1}님의 나이는 {0}세 입니다'.format(name, age))"
   ]
  },
  {
   "cell_type": "markdown",
   "id": "175ebe36",
   "metadata": {},
   "source": [
    "##### 선생님이 올리신 자습서  7.1 장식적인 출력 포매팅 참고 (교재에 없는 내용)\n",
    "- f 사용 \n",
    "- 값 나중에 써서 앞에 수식에 대입시키기.\n",
    "- 포맷 잡아줄 때 인덱스번호를 부여하지 않으면 값은 순서대로 지정됨.\n",
    "- 포맷 잡아줄 때 집합괄호를{} 이용하고 인덱스 번호를 지정 해 주면 format 뒤에 있는 변수의 값을 지정 해 줄 수 있음"
   ]
  },
  {
   "cell_type": "code",
   "execution_count": 14,
   "id": "75425e5b",
   "metadata": {},
   "outputs": [
    {
     "name": "stdout",
     "output_type": "stream",
     "text": [
      "korea python\n",
      "<class 'str'> <class 'str'>\n"
     ]
    }
   ],
   "source": [
    "# 문자열 : '   '또는 \"  \" 로 감싼 여러개의 문자\n",
    "# \"korea\", \"python\"\n",
    "print(\"korea\", 'python')\n",
    "print(type(\"korea\"), type('python'))"
   ]
  },
  {
   "cell_type": "code",
   "execution_count": null,
   "id": "1e20f50f",
   "metadata": {},
   "outputs": [],
   "source": [
    "print(\"나의 이름은 '홍길동'입니다.\")\n",
    "print('나의 이름은 \"홍길동\"입니다.')\n",
    "#더블쿼트 안에 싱글쿼트는 강조의 의미로 사용 가능 ; 교차로 사용해도 같음"
   ]
  },
  {
   "cell_type": "code",
   "execution_count": 20,
   "id": "d8428e90",
   "metadata": {},
   "outputs": [
    {
     "name": "stdout",
     "output_type": "stream",
     "text": [
      "나의 이름은'홍길동' 입니다.\n"
     ]
    }
   ],
   "source": [
    "print('나의 이름은\\'홍길동\\' 입니다.')\n",
    "#더블쿼트 안 더블쿼트 or 싱글쿼트 안 싱글쿼트는 사용불가 => 사용하고싶으면 앞뒤로 \\를 사용\n",
    "#역슬레쉬를 사용하면 \\는 특수문자로서 \\안에있는 것을 문자로 변환"
   ]
  },
  {
   "cell_type": "code",
   "execution_count": 1,
   "id": "74fe6c69",
   "metadata": {},
   "outputs": [
    {
     "name": "stdout",
     "output_type": "stream",
     "text": [
      "\n",
      "Welcome to Python 3.8's help utility!\n",
      "\n",
      "If this is your first time using Python, you should definitely check out\n",
      "the tutorial on the Internet at https://docs.python.org/3.8/tutorial/.\n",
      "\n",
      "Enter the name of any module, keyword, or topic to get help on writing\n",
      "Python programs and using Python modules.  To quit this help utility and\n",
      "return to the interpreter, just type \"quit\".\n",
      "\n",
      "To get a list of available modules, keywords, symbols, or topics, type\n",
      "\"modules\", \"keywords\", \"symbols\", or \"topics\".  Each module also comes\n",
      "with a one-line summary of what it does; to list the modules whose name\n",
      "or summary contain a given string such as \"spam\", type \"modules spam\".\n",
      "\n",
      "help> print\n",
      "Help on built-in function print in module builtins:\n",
      "\n",
      "print(...)\n",
      "    print(value, ..., sep=' ', end='\\n', file=sys.stdout, flush=False)\n",
      "    \n",
      "    Prints the values to a stream, or to sys.stdout by default.\n",
      "    Optional keyword arguments:\n",
      "    file:  a file-like object (stream); defaults to the current sys.stdout.\n",
      "    sep:   string inserted between values, default a space.\n",
      "    end:   string appended after the last value, default a newline.\n",
      "    flush: whether to forcibly flush the stream.\n",
      "\n",
      "help> \n",
      "\n",
      "You are now leaving help and returning to the Python interpreter.\n",
      "If you want to ask for help on a particular object directly from the\n",
      "interpreter, you can type \"help(object)\".  Executing \"help('string')\"\n",
      "has the same effect as typing a particular string at the help> prompt.\n"
     ]
    }
   ],
   "source": [
    "help()"
   ]
  },
  {
   "cell_type": "code",
   "execution_count": 2,
   "id": "827b321b",
   "metadata": {},
   "outputs": [],
   "source": [
    "#모르는거 help입력해서 물어보기"
   ]
  },
  {
   "cell_type": "code",
   "execution_count": 4,
   "id": "d95d1468",
   "metadata": {},
   "outputs": [
    {
     "name": "stdout",
     "output_type": "stream",
     "text": [
      "Copyright (c) 2001-2021 Python Software Foundation.\n",
      "All Rights Reserved.\n",
      "\n",
      "Copyright (c) 2000 BeOpen.com.\n",
      "All Rights Reserved.\n",
      "\n",
      "Copyright (c) 1995-2001 Corporation for National Research Initiatives.\n",
      "All Rights Reserved.\n",
      "\n",
      "Copyright (c) 1991-1995 Stichting Mathematisch Centrum, Amsterdam.\n",
      "All Rights Reserved.\n"
     ]
    }
   ],
   "source": [
    "copyright()"
   ]
  },
  {
   "cell_type": "code",
   "execution_count": 6,
   "id": "cb527189",
   "metadata": {},
   "outputs": [
    {
     "name": "stdout",
     "output_type": "stream",
     "text": [
      "See https://www.python.org/psf/license/\n"
     ]
    }
   ],
   "source": [
    "license()"
   ]
  },
  {
   "cell_type": "code",
   "execution_count": 9,
   "id": "e157cf22",
   "metadata": {},
   "outputs": [
    {
     "data": {
      "text/plain": [
       "['False',\n",
       " 'None',\n",
       " 'True',\n",
       " 'and',\n",
       " 'as',\n",
       " 'assert',\n",
       " 'async',\n",
       " 'await',\n",
       " 'break',\n",
       " 'class',\n",
       " 'continue',\n",
       " 'def',\n",
       " 'del',\n",
       " 'elif',\n",
       " 'else',\n",
       " 'except',\n",
       " 'finally',\n",
       " 'for',\n",
       " 'from',\n",
       " 'global',\n",
       " 'if',\n",
       " 'import',\n",
       " 'in',\n",
       " 'is',\n",
       " 'lambda',\n",
       " 'nonlocal',\n",
       " 'not',\n",
       " 'or',\n",
       " 'pass',\n",
       " 'raise',\n",
       " 'return',\n",
       " 'try',\n",
       " 'while',\n",
       " 'with',\n",
       " 'yield']"
      ]
     },
     "execution_count": 9,
     "metadata": {},
     "output_type": "execute_result"
    }
   ],
   "source": [
    "import keyword as kwd\n",
    "kwd.kwlist"
   ]
  },
  {
   "cell_type": "code",
   "execution_count": 12,
   "id": "77c9f673",
   "metadata": {},
   "outputs": [
    {
     "data": {
      "text/plain": [
       "[22, 77, 90, 10]"
      ]
     },
     "execution_count": 12,
     "metadata": {},
     "output_type": "execute_result"
    }
   ],
   "source": [
    "a= [22, 77, 90, 10]\n",
    "a"
   ]
  },
  {
   "cell_type": "markdown",
   "id": "3a1addb6",
   "metadata": {},
   "source": [
    "# Day03 - Unit 리스트와 튜플 사용하기"
   ]
  },
  {
   "cell_type": "code",
   "execution_count": 14,
   "id": "11783abe",
   "metadata": {},
   "outputs": [
    {
     "name": "stdout",
     "output_type": "stream",
     "text": [
      "<class 'list'>\n",
      "[10, 20, 30]\n"
     ]
    }
   ],
   "source": [
    "# 리스트 : 목록, 데이터 여러개를 늘어놓다, 나열하다,,,\n",
    "# C, C++, Java와 같은 언어에서는 배열 array 이라고 하기도 함.\n",
    "\n",
    "# 리스트 생성하기\n",
    "# 리스트변수 = [값 나열...] \n",
    "# 리스트변수 = list() <-is this \n",
    "\n",
    "lst1 = [10, 20, 30]\n",
    "print(type(lst1))\n",
    "print(lst1)"
   ]
  },
  {
   "cell_type": "code",
   "execution_count": 16,
   "id": "99ba3b9a",
   "metadata": {},
   "outputs": [
    {
     "name": "stdout",
     "output_type": "stream",
     "text": [
      "[1, 2, 3, 'korea', True, 10, 39]\n"
     ]
    }
   ],
   "source": [
    "lst2 = [1,2,3,'korea', True, 10, 39]\n",
    "print(lst2)"
   ]
  },
  {
   "cell_type": "code",
   "execution_count": 19,
   "id": "52d44c06",
   "metadata": {},
   "outputs": [
    {
     "name": "stdout",
     "output_type": "stream",
     "text": [
      "<class 'list'>\n",
      "[]\n"
     ]
    }
   ],
   "source": [
    "lst3 = list()\n",
    "print(type(lst3))\n",
    "print(lst3)"
   ]
  },
  {
   "cell_type": "code",
   "execution_count": 23,
   "id": "a6e11c19",
   "metadata": {},
   "outputs": [
    {
     "name": "stdout",
     "output_type": "stream",
     "text": [
      "[0, 1, 2, 3, 4]\n"
     ]
    }
   ],
   "source": [
    "print(list(range(5)))"
   ]
  },
  {
   "cell_type": "code",
   "execution_count": 26,
   "id": "72efe674",
   "metadata": {},
   "outputs": [
    {
     "name": "stdout",
     "output_type": "stream",
     "text": [
      "[5, 7, 9]\n"
     ]
    }
   ],
   "source": [
    "print(list(range(5, 10, 2)))"
   ]
  },
  {
   "cell_type": "code",
   "execution_count": 29,
   "id": "eb4f1f85",
   "metadata": {},
   "outputs": [
    {
     "name": "stdout",
     "output_type": "stream",
     "text": [
      "[1, 2, 3, 4, 5, 6, 7, 8, 9, 10, 11, 12, 13, 14, 15, 16, 17, 18, 19, 20, 21, 22, 23, 24, 25, 26, 27, 28, 29, 30, 31, 32, 33, 34, 35, 36, 37, 38, 39, 40, 41, 42, 43, 44, 45, 46, 47, 48, 49, 50, 51, 52, 53, 54, 55, 56, 57, 58, 59, 60, 61, 62, 63, 64, 65, 66, 67, 68, 69, 70, 71, 72, 73, 74, 75, 76, 77, 78, 79, 80, 81, 82, 83, 84, 85, 86, 87, 88, 89, 90, 91, 92, 93, 94, 95, 96, 97, 98, 99, 100]\n"
     ]
    }
   ],
   "source": [
    "lst4 = list(range(1, 101))\n",
    "print(lst4)"
   ]
  },
  {
   "cell_type": "code",
   "execution_count": 31,
   "id": "0a78a7d0",
   "metadata": {},
   "outputs": [
    {
     "name": "stdout",
     "output_type": "stream",
     "text": [
      "<class 'tuple'>\n",
      "<class 'tuple'>\n",
      "(1, 2, 3)\n",
      "(4, 5, 6)\n"
     ]
    }
   ],
   "source": [
    "# 튜플 사용하기\n",
    "# list와 비슷하지만, 튜플은 (    ) 둥근괄호를 사용하고 \n",
    "# 추가, 삭제, 수정이 불가능함\n",
    "tpl1 = (1,2,3)\n",
    "a = 4,5,6\n",
    "tpl2 = tuple(a)\n",
    "print(type(tpl1))\n",
    "print(type(tpl2))\n",
    "print(tpl1)\n",
    "print(tpl2)"
   ]
  },
  {
   "cell_type": "code",
   "execution_count": 36,
   "id": "24e9a4d7",
   "metadata": {},
   "outputs": [
    {
     "name": "stdout",
     "output_type": "stream",
     "text": [
      "[1, 2, 3, 5]\n",
      "[1, 2, 3, 5, 6]\n"
     ]
    }
   ],
   "source": [
    "lst1 = [1,2,3,5]\n",
    "print(lst1)\n",
    "lst1.append(6)      # 리스트타입변수에 대해 적용가능한 함수리스트는 . 찍고 tap키를 눌러본다.\n",
    "# 함수의 의미는 shift + tap키를 함께 눌러 본다\n",
    "print(lst1)"
   ]
  },
  {
   "cell_type": "code",
   "execution_count": 38,
   "id": "09b7cee3",
   "metadata": {},
   "outputs": [
    {
     "name": "stdout",
     "output_type": "stream",
     "text": [
      "[1, 2, 3, 4, 4, 5, 6]\n"
     ]
    }
   ],
   "source": [
    "lst1.insert(3, 4) #인덱스 3위치에 4를 insert 한다\n",
    "print(lst1)"
   ]
  },
  {
   "cell_type": "code",
   "execution_count": 40,
   "id": "261ec45c",
   "metadata": {},
   "outputs": [
    {
     "name": "stdout",
     "output_type": "stream",
     "text": [
      "[1, 2, 3, 4, 4]\n",
      "5\n"
     ]
    }
   ],
   "source": [
    "temp=lst1.pop()\n",
    "print(lst1)\n",
    "print(temp)"
   ]
  },
  {
   "cell_type": "code",
   "execution_count": 57,
   "id": "30ee8c69",
   "metadata": {},
   "outputs": [
    {
     "name": "stdout",
     "output_type": "stream",
     "text": [
      "[1, 2, 4]\n"
     ]
    }
   ],
   "source": [
    "lst1.remove(4)\n",
    "print(lst1)"
   ]
  },
  {
   "cell_type": "code",
   "execution_count": 52,
   "id": "7e91f1a1",
   "metadata": {},
   "outputs": [
    {
     "name": "stdout",
     "output_type": "stream",
     "text": [
      "[1, 2, 4, 4]\n"
     ]
    }
   ],
   "source": [
    "lst1.reverse()\n",
    "print(lst1)"
   ]
  },
  {
   "cell_type": "code",
   "execution_count": 54,
   "id": "037e1dab",
   "metadata": {},
   "outputs": [
    {
     "name": "stdout",
     "output_type": "stream",
     "text": [
      "[1, 2, 3, 4, 5]\n",
      "[5, 4, 3, 2, 1]\n"
     ]
    }
   ],
   "source": [
    "lst2 = [1,2,3,4,5]\n",
    "print(lst2)\n",
    "lst2.reverse()\n",
    "print(lst2)\n"
   ]
  },
  {
   "cell_type": "code",
   "execution_count": 58,
   "id": "44bb38be",
   "metadata": {},
   "outputs": [
    {
     "name": "stdout",
     "output_type": "stream",
     "text": [
      "[9, 2, 4, 1, 5, 6]\n",
      "[1, 2, 4, 5, 6, 9]\n"
     ]
    }
   ],
   "source": [
    "lst3 = [9, 2, 4, 1, 5, 6]\n",
    "print(lst3)\n",
    "lst3.sort()\n",
    "print(lst3)"
   ]
  },
  {
   "cell_type": "code",
   "execution_count": 60,
   "id": "351fb630",
   "metadata": {},
   "outputs": [
    {
     "name": "stdout",
     "output_type": "stream",
     "text": [
      "['강동원', '공유', '박서준', '송강', '원빈']\n"
     ]
    }
   ],
   "source": [
    "lst4 = ['원빈','강동원','공유','송강','박서준']\n",
    "lst4.sort()\n",
    "print(lst4)"
   ]
  },
  {
   "cell_type": "code",
   "execution_count": 64,
   "id": "77c8e147",
   "metadata": {},
   "outputs": [
    {
     "name": "stdout",
     "output_type": "stream",
     "text": [
      "[1, 2, 4, 5, 6, 9, '강동원', '공유', '박서준', '송강', '원빈', '강동원', '공유', '박서준', '송강', '원빈', '강동원', '공유', '박서준', '송강', '원빈', '강동원', '공유', '박서준', '송강', '원빈']\n"
     ]
    }
   ],
   "source": [
    "lst3.extend(lst4)\n",
    "print(lst3)"
   ]
  },
  {
   "cell_type": "code",
   "execution_count": 66,
   "id": "87f11894",
   "metadata": {},
   "outputs": [
    {
     "name": "stdout",
     "output_type": "stream",
     "text": [
      "9\n"
     ]
    }
   ],
   "source": [
    "print(lst3[5])"
   ]
  },
  {
   "cell_type": "code",
   "execution_count": 68,
   "id": "31b93e78",
   "metadata": {},
   "outputs": [
    {
     "name": "stdout",
     "output_type": "stream",
     "text": [
      "[1, 2, 4, 5, 6, 1004, '강동원', '공유', '박서준', '송강', '원빈', '강동원', '공유', '박서준', '송강', '원빈', '강동원', '공유', '박서준', '송강', '원빈', '강동원', '공유', '박서준', '송강', '원빈']\n"
     ]
    }
   ],
   "source": [
    "lst3[5] = 1004\n",
    "print(lst3)"
   ]
  },
  {
   "cell_type": "code",
   "execution_count": 69,
   "id": "0babce49",
   "metadata": {},
   "outputs": [
    {
     "name": "stdout",
     "output_type": "stream",
     "text": [
      "['강동원', '공유', '박서준', '송강', '원빈']\n"
     ]
    }
   ],
   "source": [
    "print(lst3[6:11])\n",
    "# 6이상 세미콜론 11미만 = 'slicing 을 한다 ;index를 사용해서 리스트나 튜플의 특정부분만 (잘라온다)출력"
   ]
  },
  {
   "cell_type": "code",
   "execution_count": 75,
   "id": "98b1aa45",
   "metadata": {},
   "outputs": [
    {
     "name": "stdout",
     "output_type": "stream",
     "text": [
      "1\n",
      "1\n"
     ]
    }
   ],
   "source": [
    "tpl1 = (1,2,3)\n",
    "print(tpl1.count(2))\n",
    "print(tpl1.index(2))"
   ]
  },
  {
   "cell_type": "code",
   "execution_count": 79,
   "id": "170356d5",
   "metadata": {},
   "outputs": [
    {
     "name": "stdout",
     "output_type": "stream",
     "text": [
      "<class 'list'>\n",
      "[1, 2, 3]\n"
     ]
    }
   ],
   "source": [
    "# 튜플은 리스트와 달리 값의 삽입, 수정, 삭제 하는 것이 불가능\n",
    "# 튜플값을 삽입/수정/삭제 하려면 튜플을 리스트로 변경한 후\n",
    "# 삽입/수정/삭제 하고, 다시 리스트를 튜플로 변경해야함.\n",
    "\n",
    "tpl1=list(tpl1)\n",
    "print(type(tpl1))\n",
    "print(tpl1)"
   ]
  },
  {
   "cell_type": "code",
   "execution_count": 81,
   "id": "29a5a9b2",
   "metadata": {},
   "outputs": [
    {
     "ename": "AttributeError",
     "evalue": "'tuple' object has no attribute 'append'",
     "output_type": "error",
     "traceback": [
      "\u001b[1;31m---------------------------------------------------------------------------\u001b[0m",
      "\u001b[1;31mAttributeError\u001b[0m                            Traceback (most recent call last)",
      "\u001b[1;32m<ipython-input-81-bdd2f69d8e69>\u001b[0m in \u001b[0;36m<module>\u001b[1;34m\u001b[0m\n\u001b[1;32m----> 1\u001b[1;33m \u001b[0mtpl1\u001b[0m\u001b[1;33m.\u001b[0m\u001b[0mappend\u001b[0m\u001b[1;33m(\u001b[0m\u001b[1;36m4\u001b[0m\u001b[1;33m)\u001b[0m\u001b[1;33m\u001b[0m\u001b[1;33m\u001b[0m\u001b[0m\n\u001b[0m\u001b[0;32m      2\u001b[0m \u001b[0mtpl1\u001b[0m\u001b[1;33m[\u001b[0m\u001b[1;36m1\u001b[0m\u001b[1;33m]\u001b[0m \u001b[1;33m=\u001b[0m \u001b[1;36m22\u001b[0m\u001b[1;33m\u001b[0m\u001b[1;33m\u001b[0m\u001b[0m\n\u001b[0;32m      3\u001b[0m \u001b[0mtpl1\u001b[0m\u001b[1;33m=\u001b[0m\u001b[0mtuple\u001b[0m\u001b[1;33m(\u001b[0m\u001b[0mtpl1\u001b[0m\u001b[1;33m)\u001b[0m\u001b[1;33m\u001b[0m\u001b[1;33m\u001b[0m\u001b[0m\n\u001b[0;32m      4\u001b[0m \u001b[0mprint\u001b[0m\u001b[1;33m(\u001b[0m\u001b[0mtpl1\u001b[0m\u001b[1;33m)\u001b[0m\u001b[1;33m\u001b[0m\u001b[1;33m\u001b[0m\u001b[0m\n",
      "\u001b[1;31mAttributeError\u001b[0m: 'tuple' object has no attribute 'append'"
     ]
    }
   ],
   "source": [
    "tpl1.append(4)\n",
    "tpl1[1] = 22\n",
    "tpl1=tuple(tpl1)\n",
    "print(tpl1)"
   ]
  },
  {
   "cell_type": "markdown",
   "id": "0b164f6d",
   "metadata": {},
   "source": [
    "# Unit11. 시퀀스 자료형 활용하기"
   ]
  },
  {
   "cell_type": "code",
   "execution_count": 85,
   "id": "17b28454",
   "metadata": {},
   "outputs": [
    {
     "data": {
      "text/plain": [
       "True"
      ]
     },
     "execution_count": 85,
     "metadata": {},
     "output_type": "execute_result"
    }
   ],
   "source": [
    "a = [0, 10, 5, 9, 7, 15, 87, 33]\n",
    "# 특정 값이 있는 지 확인 : 값 in 시퀀스객체\n",
    "7 in a"
   ]
  },
  {
   "cell_type": "code",
   "execution_count": 88,
   "id": "cb092717",
   "metadata": {},
   "outputs": [
    {
     "name": "stdout",
     "output_type": "stream",
     "text": [
      "False\n"
     ]
    }
   ],
   "source": [
    "print(7 not in a)"
   ]
  },
  {
   "cell_type": "code",
   "execution_count": 91,
   "id": "cc10ed5d",
   "metadata": {},
   "outputs": [
    {
     "name": "stdout",
     "output_type": "stream",
     "text": [
      "[1, 3, 5, 2, 4, 6]\n"
     ]
    }
   ],
   "source": [
    "a = [1, 3, 5]\n",
    "b = [2, 4, 6]\n",
    "c = a + b # 리스트에 있어서 + 는 add의 의미가 아니라 concatinate 결합해서 새로운 thins가 됨\n",
    "print(c)"
   ]
  },
  {
   "cell_type": "code",
   "execution_count": 93,
   "id": "d0d5df8c",
   "metadata": {},
   "outputs": [
    {
     "data": {
      "text/plain": [
       "[1, 3, 5, 1, 3, 5, 1, 3, 5]"
      ]
     },
     "execution_count": 93,
     "metadata": {},
     "output_type": "execute_result"
    }
   ],
   "source": [
    "a * 3 # a라는 씨퀀스 객체를 3번 반복해라\n",
    "# 리스트에서는 곱셈연산은 안됨. 리스트에서는 반복되어지는 횟수로 이야기됨\n"
   ]
  },
  {
   "cell_type": "code",
   "execution_count": 95,
   "id": "b1dd8abd",
   "metadata": {},
   "outputs": [
    {
     "data": {
      "text/plain": [
       "3"
      ]
     },
     "execution_count": 95,
     "metadata": {},
     "output_type": "execute_result"
    }
   ],
   "source": [
    "len(a) #a라는 리스트의 길이를 구함"
   ]
  },
  {
   "cell_type": "code",
   "execution_count": 2,
   "id": "2327a613",
   "metadata": {},
   "outputs": [
    {
     "name": "stdout",
     "output_type": "stream",
     "text": [
      "[0, 1, 2, 3, 4, 5, 6, 7, 8, 9, 10, 11, 12, 13, 14, 15, 16, 17, 18, 19, 20, 21, 22, 23, 24, 25, 26, 27, 28, 29, 30, 31, 32, 33, 34, 35, 36, 37, 38, 39, 40, 41, 42, 43, 44, 45, 46, 47, 48, 49, 50, 51, 52, 53, 54, 55, 56, 57, 58, 59, 60, 61, 62, 63, 64, 65, 66, 67, 68, 69, 70, 71, 72, 73, 74, 75, 76, 77, 78, 79, 80, 81, 82, 83, 84, 85, 86, 87, 88, 89, 90, 91, 92, 93, 94, 95, 96, 97, 98, 99, 100, 101, 102, 103, 104, 105, 106, 107, 108, 109, 110, 111, 112, 113, 114, 115, 116, 117, 118, 119, 120, 121, 122, 123, 124, 125, 126, 127, 128, 129, 130, 131, 132, 133, 134, 135, 136, 137, 138, 139, 140, 141, 142, 143, 144, 145, 146, 147, 148, 149, 150, 151, 152, 153, 154, 155, 156, 157, 158, 159, 160, 161, 162, 163, 164, 165, 166, 167, 168, 169, 170, 171, 172, 173, 174, 175, 176, 177, 178, 179, 180, 181, 182, 183, 184, 185, 186, 187, 188, 189, 190, 191, 192, 193, 194, 195, 196, 197, 198, 199, 200, 201, 202, 203, 204, 205, 206, 207, 208, 209, 210, 211, 212, 213, 214, 215, 216, 217, 218, 219, 220, 221, 222, 223, 224, 225, 226, 227, 228, 229, 230, 231, 232, 233, 234, 235, 236, 237, 238, 239, 240, 241, 242, 243, 244, 245, 246, 247, 248, 249, 250, 251, 252, 253, 254, 255, 256, 257, 258, 259, 260, 261, 262, 263, 264, 265, 266, 267, 268, 269, 270, 271, 272, 273, 274, 275, 276, 277, 278, 279, 280, 281, 282, 283, 284, 285, 286, 287, 288, 289, 290, 291, 292, 293, 294, 295, 296, 297, 298, 299, 300, 301, 302, 303, 304, 305, 306, 307, 308, 309, 310, 311, 312, 313, 314, 315, 316, 317, 318, 319, 320, 321, 322, 323, 324, 325, 326, 327, 328, 329, 330, 331, 332, 333, 334, 335, 336, 337, 338, 339, 340, 341, 342, 343, 344, 345, 346, 347, 348, 349, 350, 351, 352, 353, 354, 355, 356, 357, 358, 359, 360, 361, 362, 363, 364, 365, 366, 367, 368, 369, 370, 371, 372, 373, 374, 375, 376, 377, 378, 379, 380, 381, 382, 383, 384, 385, 386, 387, 388, 389, 390, 391, 392, 393, 394, 395, 396, 397, 398, 399, 400, 401, 402, 403, 404, 405, 406, 407, 408, 409, 410, 411, 412, 413, 414, 415, 416, 417, 418, 419, 420, 421, 422, 423, 424, 425, 426, 427, 428, 429, 430, 431, 432, 433, 434, 435, 436, 437, 438, 439, 440, 441, 442, 443, 444, 445, 446, 447, 448, 449, 450, 451, 452, 453, 454, 455, 456, 457, 458, 459, 460, 461, 462, 463, 464, 465, 466, 467, 468, 469, 470, 471, 472, 473, 474, 475, 476, 477, 478, 479, 480, 481, 482, 483, 484, 485, 486, 487, 488, 489, 490, 491, 492, 493, 494, 495, 496, 497, 498, 499, 500, 501, 502, 503, 504, 505, 506, 507, 508, 509, 510, 511, 512, 513, 514, 515, 516, 517, 518, 519, 520, 521, 522, 523, 524, 525, 526, 527, 528, 529, 530, 531, 532, 533, 534, 535, 536, 537, 538, 539, 540, 541, 542, 543, 544, 545, 546, 547, 548, 549, 550, 551, 552, 553, 554, 555, 556, 557, 558, 559, 560, 561, 562, 563, 564, 565, 566, 567, 568, 569, 570, 571, 572, 573, 574, 575, 576, 577, 578, 579, 580, 581, 582, 583, 584, 585, 586, 587, 588, 589, 590, 591, 592, 593, 594, 595, 596, 597, 598, 599, 600, 601, 602, 603, 604, 605, 606, 607, 608, 609, 610, 611, 612, 613, 614, 615, 616, 617, 618, 619, 620, 621, 622, 623, 624, 625, 626, 627, 628, 629, 630, 631, 632, 633, 634, 635, 636, 637, 638, 639, 640, 641, 642, 643, 644, 645, 646, 647, 648, 649, 650, 651, 652, 653, 654, 655, 656, 657, 658, 659, 660, 661, 662, 663, 664, 665, 666, 667, 668, 669, 670, 671, 672, 673, 674, 675, 676, 677, 678, 679, 680, 681, 682, 683, 684, 685, 686, 687, 688, 689, 690, 691, 692, 693, 694, 695, 696, 697, 698, 699, 700, 701, 702, 703, 704, 705, 706, 707, 708, 709, 710, 711, 712, 713, 714, 715, 716, 717, 718, 719, 720, 721, 722, 723, 724, 725, 726, 727, 728, 729, 730, 731, 732, 733, 734, 735, 736, 737, 738, 739, 740, 741, 742, 743, 744, 745, 746, 747, 748, 749, 750, 751, 752, 753, 754, 755, 756, 757, 758, 759, 760, 761, 762, 763, 764, 765, 766, 767, 768, 769, 770, 771, 772, 773, 774, 775, 776, 777, 778, 779, 780, 781, 782, 783, 784, 785, 786, 787, 788, 789, 790, 791, 792, 793, 794, 795, 796, 797, 798, 799, 800, 801, 802, 803, 804, 805, 806, 807, 808, 809, 810, 811, 812, 813, 814, 815, 816, 817, 818, 819, 820, 821, 822, 823, 824, 825, 826, 827, 828, 829, 830, 831, 832, 833, 834, 835, 836, 837, 838, 839, 840, 841, 842, 843, 844, 845, 846, 847, 848, 849, 850, 851, 852, 853, 854, 855, 856, 857, 858, 859, 860, 861, 862, 863, 864, 865, 866, 867, 868, 869, 870, 871, 872, 873, 874, 875, 876, 877, 878, 879, 880, 881, 882, 883, 884, 885, 886, 887, 888, 889, 890, 891, 892, 893, 894, 895, 896, 897, 898, 899, 900, 901, 902, 903, 904, 905, 906, 907, 908, 909, 910, 911, 912, 913, 914, 915, 916, 917, 918, 919, 920, 921, 922, 923, 924, 925, 926, 927, 928, 929, 930, 931, 932, 933, 934, 935, 936, 937, 938, 939, 940, 941, 942, 943, 944, 945, 946, 947, 948, 949, 950, 951, 952, 953, 954, 955, 956, 957, 958, 959, 960, 961, 962, 963, 964, 965, 966, 967, 968, 969, 970, 971, 972, 973, 974, 975, 976, 977, 978, 979, 980, 981, 982, 983, 984, 985, 986, 987, 988, 989, 990, 991, 992, 993, 994, 995, 996, 997, 998]\n"
     ]
    }
   ],
   "source": [
    "a = list(range(999))\n",
    "print(a)\n"
   ]
  },
  {
   "cell_type": "code",
   "execution_count": 1,
   "id": "a4d9c079",
   "metadata": {},
   "outputs": [
    {
     "name": "stdout",
     "output_type": "stream",
     "text": [
      "{'국어': 100, '영어': 95, '수학': 98}\n",
      "<class 'dict'>\n",
      "100\n"
     ]
    }
   ],
   "source": [
    "#딕셔너리\n",
    "# 딕셔너리 변수 = {키:값, 키2:값2, ...} 집합괄호 기호를 사용. \n",
    "# 리스트와 튜플은 값에 접근할 때 위치 값 기준을 접근. \n",
    "# 딕셔너리는 키 값을 가지고 접근함. ; 값의 의미부여를 하고 그 의미에 따라 값을 찾아감.\n",
    "# 딕셔너리 변수 = dict{}\n",
    "\n",
    "b = {\"국어\":100, \"영어\":95, \"수학\":98}\n",
    "print(b)\n",
    "print(type(b))\n",
    "print(b[\"국어\"])"
   ]
  },
  {
   "cell_type": "code",
   "execution_count": 5,
   "id": "c1da3208",
   "metadata": {},
   "outputs": [
    {
     "data": {
      "text/plain": [
       "dict_keys(['국어', '영어', '수학'])"
      ]
     },
     "execution_count": 5,
     "metadata": {},
     "output_type": "execute_result"
    }
   ],
   "source": [
    "b.keys()"
   ]
  },
  {
   "cell_type": "code",
   "execution_count": 6,
   "id": "30b52439",
   "metadata": {},
   "outputs": [
    {
     "data": {
      "text/plain": [
       "dict_values([100, 95, 98])"
      ]
     },
     "execution_count": 6,
     "metadata": {},
     "output_type": "execute_result"
    }
   ],
   "source": [
    "b.values()"
   ]
  },
  {
   "cell_type": "code",
   "execution_count": 8,
   "id": "ad5320cc",
   "metadata": {},
   "outputs": [
    {
     "data": {
      "text/plain": [
       "100"
      ]
     },
     "execution_count": 8,
     "metadata": {},
     "output_type": "execute_result"
    }
   ],
   "source": [
    "b.get(\"국어\")"
   ]
  },
  {
   "cell_type": "code",
   "execution_count": 9,
   "id": "252805fa",
   "metadata": {},
   "outputs": [],
   "source": [
    "# 딕셔너리 키 이름이 중복되면?\n",
    "# 제일 뒤에 있는 값만 사용함"
   ]
  },
  {
   "cell_type": "code",
   "execution_count": 11,
   "id": "0e5dfd71",
   "metadata": {},
   "outputs": [
    {
     "name": "stdout",
     "output_type": "stream",
     "text": [
      "\n",
      "Welcome to Python 3.8's help utility!\n",
      "\n",
      "If this is your first time using Python, you should definitely check out\n",
      "the tutorial on the Internet at https://docs.python.org/3.8/tutorial/.\n",
      "\n",
      "Enter the name of any module, keyword, or topic to get help on writing\n",
      "Python programs and using Python modules.  To quit this help utility and\n",
      "return to the interpreter, just type \"quit\".\n",
      "\n",
      "To get a list of available modules, keywords, symbols, or topics, type\n",
      "\"modules\", \"keywords\", \"symbols\", or \"topics\".  Each module also comes\n",
      "with a one-line summary of what it does; to list the modules whose name\n",
      "or summary contain a given string such as \"spam\", type \"modules spam\".\n",
      "\n",
      "help> pop\n",
      "No Python documentation found for 'pop'.\n",
      "Use help() to get the interactive help utility.\n",
      "Use help(str) for help on the str class.\n",
      "\n",
      "\n",
      "You are now leaving help and returning to the Python interpreter.\n",
      "If you want to ask for help on a particular object directly from the\n",
      "interpreter, you can type \"help(object)\".  Executing \"help('string')\"\n",
      "has the same effect as typing a particular string at the help> prompt.\n"
     ]
    }
   ],
   "source": [
    "help()"
   ]
  }
 ],
 "metadata": {
  "kernelspec": {
   "display_name": "Python 3",
   "language": "python",
   "name": "python3"
  },
  "language_info": {
   "codemirror_mode": {
    "name": "ipython",
    "version": 3
   },
   "file_extension": ".py",
   "mimetype": "text/x-python",
   "name": "python",
   "nbconvert_exporter": "python",
   "pygments_lexer": "ipython3",
   "version": "3.8.8"
  }
 },
 "nbformat": 4,
 "nbformat_minor": 5
}
