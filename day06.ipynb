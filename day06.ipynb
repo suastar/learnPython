{
 "cells": [
  {
   "cell_type": "code",
   "execution_count": 10,
   "id": "442c7f0e",
   "metadata": {},
   "outputs": [
    {
     "name": "stdout",
     "output_type": "stream",
     "text": [
      "<class 'list'>\n",
      "[2, 3, 4, 5, 6, 7, 8, 9, 10, 11]\n"
     ]
    }
   ],
   "source": [
    "# 교재 page 300, 리스트 컴프리헨션 list comprehension 표현식을 사용해 리스트의 요소를 만듬\n",
    "# a  = [0, 1, 2, 3, 4, 5, 6, 7, 8, 9 ]\n",
    "a = [i+2 for i in range(10)] #0부터 9까지 숫자를 생성하여 리스트 생성\n",
    "print(type(a))\n",
    "print(a)"
   ]
  },
  {
   "cell_type": "code",
   "execution_count": 11,
   "id": "421245ad",
   "metadata": {},
   "outputs": [
    {
     "data": {
      "text/plain": [
       "[0, 2, 4, 6, 8]"
      ]
     },
     "execution_count": 11,
     "metadata": {},
     "output_type": "execute_result"
    }
   ],
   "source": [
    "a = [i for i in range(10) if i % 2 ==0] #0-9숫자 중 2의 배수인 숫자(짝수)로\n",
    "a  #리스트 생성"
   ]
  },
  {
   "cell_type": "code",
   "execution_count": 17,
   "id": "e31049e3",
   "metadata": {},
   "outputs": [
    {
     "name": "stdout",
     "output_type": "stream",
     "text": [
      "[1, 2, 3, 4]\n"
     ]
    }
   ],
   "source": [
    "#unit22.6 리스트에 map 사용하기\n",
    "# 실수형으로 구성된 리스트 각 요소를 추출하여 정수형으로 변환하고 정수형 리스트를 구성\n",
    "a = [1.2, 2.5, 3.7, 4.6]\n",
    "for i in range(len(a)): #for 에 range(len(a))를 사용해 인덱스 가져옴\n",
    "    a[i] = int(a[i])   # 가져온 요소 하나하나에 int로 변환하여 다시 저장\n",
    "print(a)"
   ]
  },
  {
   "cell_type": "code",
   "execution_count": 19,
   "id": "12bda2bb",
   "metadata": {},
   "outputs": [
    {
     "name": "stdout",
     "output_type": "stream",
     "text": [
      "[1, 2, 3, 4]\n"
     ]
    }
   ],
   "source": [
    "# 위 작업을, list(ma()) 함수를 사용하여 동일하게 구성할 수 있음.\n",
    "a = [1.2, 2.5, 3.7, 4.6]\n",
    "a = list(map(int,a)) #map에 int와 리스트를 넣으면 리스트이 모든 요소를 int 사용해 변환, 그 다음 list사용해 map의 결과를 다시 리스트로 \n",
    "print(a)"
   ]
  },
  {
   "cell_type": "code",
   "execution_count": 23,
   "id": "e540699b",
   "metadata": {},
   "outputs": [
    {
     "name": "stdout",
     "output_type": "stream",
     "text": [
      "여러개의 숫자를 입력 해 보세용1 2 3 4\n",
      "<class 'map'>\n",
      "[1, 2, 3, 4]\n"
     ]
    }
   ],
   "source": [
    "# 22.6.1 input().split() 과 map\n",
    "a = map(int, input(\"여러개의 숫자를 입력 해 보세용\").split(\" \"))\n",
    "print(type(a))\n",
    "print(list(a))"
   ]
  },
  {
   "cell_type": "code",
   "execution_count": 25,
   "id": "9a6dd933",
   "metadata": {},
   "outputs": [
    {
     "name": "stdout",
     "output_type": "stream",
     "text": [
      "1 3 \n"
     ]
    }
   ],
   "source": [
    "x = input().split() #input().split()의 결과는 문자열 리스트\n",
    "m = map(int, x)\n",
    "a, b = m\n",
    "\n"
   ]
  },
  {
   "cell_type": "code",
   "execution_count": 27,
   "id": "be7ab513",
   "metadata": {},
   "outputs": [
    {
     "name": "stdout",
     "output_type": "stream",
     "text": [
      "10 20\n",
      "30 40\n",
      "50 60\n"
     ]
    }
   ],
   "source": [
    "# 교재 315page\n",
    "# 반복문으로 2차원 리스트 요소를 모두 출력\n",
    "# 방법1. 한번의 for loop 사용\n",
    "a = [[10,20], [30,40],[50,60]] # 3행 2열의 2차원 리스트 , 리스트의 가로 한 줄(안쪽리스트)에서 요소 두개를 꺼냄\n",
    "for x, y in a:\n",
    "    print(x, y)"
   ]
  },
  {
   "cell_type": "code",
   "execution_count": 31,
   "id": "a830e7ff",
   "metadata": {},
   "outputs": [
    {
     "name": "stdout",
     "output_type": "stream",
     "text": [
      "10  20  9  \n",
      "30  \n",
      "50  60  \n"
     ]
    }
   ],
   "source": [
    "# 방법2. 중첩 for loop 사용\n",
    "a = [[10,20,9], [30],[50,60]] \n",
    "for i in a: # a 에서 안쪽 리스트를 꺼냄\n",
    "    for j in i : # 안쪽 리스트에서 요소를 하나씩 꺼냄\n",
    "        print(j, end='  ')\n",
    "    print()"
   ]
  },
  {
   "cell_type": "code",
   "execution_count": 33,
   "id": "e13d73e8",
   "metadata": {},
   "outputs": [
    {
     "name": "stdout",
     "output_type": "stream",
     "text": [
      "10 20 \n",
      "30 40 \n",
      "50 60 \n"
     ]
    }
   ],
   "source": [
    "#page317 \n",
    "#two_dimensional_list_for_for_range.py\n",
    "a = [[10, 20],[30, 40], [50, 60]]\n",
    "for i in range(len(a)):\n",
    "    for j in range(len(a[i])):\n",
    "        print(a[i][j], end=' ')\n",
    "    print()"
   ]
  },
  {
   "cell_type": "code",
   "execution_count": 38,
   "id": "6c7ca409",
   "metadata": {},
   "outputs": [
    {
     "data": {
      "text/plain": [
       "'hello,python'"
      ]
     },
     "execution_count": 38,
     "metadata": {},
     "output_type": "execute_result"
    }
   ],
   "source": [
    "'hello,world'.replace('world','python')\n",
    "s = 'hello,world'\n",
    "s = s.replace('world', 'python')\n",
    "s"
   ]
  },
  {
   "cell_type": "code",
   "execution_count": 42,
   "id": "cafffaf5",
   "metadata": {},
   "outputs": [
    {
     "name": "stdout",
     "output_type": "stream",
     "text": [
      "<class 'dict'>\n",
      "{'a': 10, 'b': 20, 'c': 30, 'd': 40}\n",
      "{'a': 10, 'b': 20, 'c': 30, 'd': 40, 'e': 50}\n"
     ]
    }
   ],
   "source": [
    "#교재 358, Unit25 딕셔너리 응용\n",
    "#1. 키-값 쌍 추가\n",
    "# setdefault : 키-값 쌍 (무조건) 추가\n",
    "# update : 키의 값 수정, 없으면 추가\n",
    "x = {'a': 10, 'b':20, 'c':30, 'd':40}\n",
    "print(type(x))\n",
    "print(x)\n",
    "# 새로운 키-값 쌍을 추가\n",
    "x.setdefault('e',50)\n",
    "print(x)"
   ]
  },
  {
   "cell_type": "code",
   "execution_count": 44,
   "id": "28b2ef8a",
   "metadata": {},
   "outputs": [
    {
     "name": "stdout",
     "output_type": "stream",
     "text": [
      "{'a': 10, 'b': 20, 'c': 30, 'd': 40, 'e': 50, 'f': None}\n"
     ]
    }
   ],
   "source": [
    "# 새로운 키 값 쌍을 추가, 키만 명시....값은 None을 저장한다\n",
    "x.setdefault('f')\n",
    "print(x)"
   ]
  },
  {
   "cell_type": "code",
   "execution_count": 46,
   "id": "494d3db5",
   "metadata": {},
   "outputs": [
    {
     "name": "stdout",
     "output_type": "stream",
     "text": [
      "{'a': 10, 'b': 20, 'c': 30, 'd': 40, 'e': 50, 'f': None}\n"
     ]
    }
   ],
   "source": [
    "x.setdefault('e',50)\n",
    "print(x)\n"
   ]
  },
  {
   "cell_type": "code",
   "execution_count": 49,
   "id": "ccddf583",
   "metadata": {},
   "outputs": [
    {
     "name": "stdout",
     "output_type": "stream",
     "text": [
      "{'a': 10, 'b': 20, 'c': 30, 'd': 40, 'e': 500, 'f': None}\n"
     ]
    }
   ],
   "source": [
    "x.update(e=500) # update(key=value)\n",
    "print(x)"
   ]
  },
  {
   "cell_type": "code",
   "execution_count": 50,
   "id": "a6f4dec7",
   "metadata": {},
   "outputs": [
    {
     "name": "stdout",
     "output_type": "stream",
     "text": [
      "{'a': 10, 'b': 20, 'c': 30, 'd': 40, 'e': 500, 'f': None, 'g': 70}\n"
     ]
    }
   ],
   "source": [
    "x.update(g=70)\n",
    "print(x)"
   ]
  },
  {
   "cell_type": "code",
   "execution_count": 51,
   "id": "9c425e1f",
   "metadata": {},
   "outputs": [
    {
     "name": "stdout",
     "output_type": "stream",
     "text": [
      "{'a': 10, 'b': 20, 'c': 30, 'd': 40, 'e': 500, 'f': None, 'g': 70}\n"
     ]
    }
   ],
   "source": [
    "x.setdefault('e',777777)\n",
    "print(x)\n",
    "#setdefault는 집어넣어주는 역만 함 수정이 불가함"
   ]
  },
  {
   "cell_type": "code",
   "execution_count": 52,
   "id": "bd1eb2fb",
   "metadata": {},
   "outputs": [
    {
     "name": "stdout",
     "output_type": "stream",
     "text": [
      "{'a': 10, 'b': 20, 'c': 30, 'd': 40, 'e': 500, 'f': None}\n",
      "70\n"
     ]
    }
   ],
   "source": [
    "#361page\n",
    "#딕셔너리에서 키-값 쌍 삭제\n",
    "temp=x.pop('g')  # pop(키)\n",
    "print(x)\n",
    "print(temp)"
   ]
  },
  {
   "cell_type": "code",
   "execution_count": 54,
   "id": "4d5c9317",
   "metadata": {},
   "outputs": [
    {
     "name": "stdout",
     "output_type": "stream",
     "text": [
      "{'a': 10, 'b': 20, 'c': 30, 'd': 40, 'e': 500}\n",
      "{'a': 10, 'b': 20, 'c': 30, 'd': 40}\n"
     ]
    }
   ],
   "source": [
    "# popitem : 파이썬 3.6이상에서는 마지막 키-값 쌍을 삭제 *3.5이하에서는 임의의 키-값쌍을 삭제\n",
    "print(x)\n",
    "x.popitem()\n",
    "print(x)"
   ]
  },
  {
   "cell_type": "code",
   "execution_count": 55,
   "id": "877fda12",
   "metadata": {},
   "outputs": [
    {
     "name": "stdout",
     "output_type": "stream",
     "text": [
      "{'a': 10, 'b': 20, 'c': 30, 'd': 40}\n",
      "{}\n"
     ]
    }
   ],
   "source": [
    "# 딕셔너리 키-값 쌍 모두 삭제\n",
    "print(x)\n",
    "x.clear()\n",
    "print(x)"
   ]
  },
  {
   "cell_type": "code",
   "execution_count": 60,
   "id": "7a7f15a1",
   "metadata": {},
   "outputs": [
    {
     "name": "stdout",
     "output_type": "stream",
     "text": [
      "dict_values([10, 20, 30, 40])\n"
     ]
    }
   ],
   "source": [
    "# 키의 값을 반환\n",
    "x = {'a': 10, 'b':20, 'c':30, 'd':40}\n",
    "#temp=(x.get('a')) #키를 이용해서 값을 반환\n",
    "#temp=x.items()  # 키와 값의 모든 쌍을 반환\n",
    "#temp=x.keys() # 키 들의 리스트를 반환\n",
    "temp=x.values() # 값 리스트를 반환\n",
    "print(temp)"
   ]
  },
  {
   "cell_type": "code",
   "execution_count": 65,
   "id": "c133d808",
   "metadata": {},
   "outputs": [
    {
     "name": "stdout",
     "output_type": "stream",
     "text": [
      "{'a': 100, 'b': 100, 'c': 100, 'd': 100}\n"
     ]
    }
   ],
   "source": [
    "# 리스트와 튜플로 딕셔너리 만들기  p.363\n",
    "keys = ['a', 'b', 'c', 'd']\n",
    "values= [10, 20, 30, 40]\n",
    "x = dict.fromkeys(keys, 100)\n",
    "print(x)"
   ]
  },
  {
   "cell_type": "code",
   "execution_count": 66,
   "id": "b958e084",
   "metadata": {},
   "outputs": [
    {
     "ename": "SyntaxError",
     "evalue": "invalid syntax (<ipython-input-66-9a4e25f5991f>, line 4)",
     "output_type": "error",
     "traceback": [
      "\u001b[1;36m  File \u001b[1;32m\"<ipython-input-66-9a4e25f5991f>\"\u001b[1;36m, line \u001b[1;32m4\u001b[0m\n\u001b[1;33m    'mass' : 3.3.22e+23,\u001b[0m\n\u001b[1;37m                ^\u001b[0m\n\u001b[1;31mSyntaxError\u001b[0m\u001b[1;31m:\u001b[0m invalid syntax\n"
     ]
    }
   ],
   "source": [
    "terrestrial_planet= {\n",
    "    'Mercury':{\n",
    "        'mean_radius': 2439.7,\n",
    "        'mass' : 3.3.22e+23,\n",
    "        'orbiral_period' : 87.969\n",
    "    },\n",
    "    'venus': {\n",
    "        'mean_radius':6051.8,\n",
    "        'mass' : 4.86876e+24,\n",
    "        'orbiral_period': 224.70069,\n",
    "    },\n",
    "    'earth':{\n",
    "        'mean_radius':6371.0,\n",
    "        'mass':5.97219e+24,\n",
    "        'orbital_period':365.25641,\n",
    "    },\n",
    "    'mars':{\n",
    "        'mean_radius':3389.5,\n",
    "        'mass':6.4185e+23,\n",
    "        'orbital_period':686.9600,\n",
    "    }\n",
    "    \n",
    "}\n",
    "print(terrewstrial_planet['venus']['mean_radius'])"
   ]
  },
  {
   "cell_type": "code",
   "execution_count": 68,
   "id": "349a7295",
   "metadata": {},
   "outputs": [
    {
     "name": "stdout",
     "output_type": "stream",
     "text": [
      "<class 'set'>\n",
      "{1, 2, 3, 4, 5, 6}\n"
     ]
    }
   ],
   "source": [
    "# set\n",
    "s= {1,2,3,4,4,5,5,5,6} # s=set()\n",
    "print(type(s))\n",
    "print(s)"
   ]
  },
  {
   "cell_type": "code",
   "execution_count": 72,
   "id": "a3980cc3",
   "metadata": {},
   "outputs": [
    {
     "name": "stdout",
     "output_type": "stream",
     "text": [
      "{1, 2, 3, 4, 5, 6}\n",
      "{3, 4}\n",
      "{1, 2}\n"
     ]
    }
   ],
   "source": [
    "a= {1,2,3,4}\n",
    "b= {3,4,5,6}\n",
    "print(a.union(b)) #set.union(a,b)\n",
    "print(a.intersection(b)) #교집합 #set.intersection(a,b),#\n",
    "print(a.difference(b)) #차집합 : 누가 메인이 되느냐에 따라 답이 달라짐 유의 #set.defferrence(a,b),-"
   ]
  },
  {
   "cell_type": "code",
   "execution_count": 74,
   "id": "b8e6aa05",
   "metadata": {},
   "outputs": [
    {
     "name": "stdout",
     "output_type": "stream",
     "text": [
      "Hello\n",
      "This si Hello.txt file\n"
     ]
    }
   ],
   "source": [
    "#Unit27 파일 사용하기 p.400\n",
    "#file에 문자열 쓰기\n",
    "# 기본step : 오픈 > 쓰기 > 닫기\n",
    "# 파일객체 = open(파일이름, 파일모드)\n",
    "# 문자열 = 파일객체.read()\n",
    "# 파일객체.write(\"쓰고싶은 문자열\")\n",
    "# 파일객체.colse()\n",
    "\n",
    "infile = open('hello.txt', 'r') #infile 입력용 outfile 출력용\n",
    "s = infile.read()\n",
    "print(s)\n",
    "infile.close()"
   ]
  },
  {
   "cell_type": "code",
   "execution_count": 78,
   "id": "a4140000",
   "metadata": {},
   "outputs": [],
   "source": [
    "outfile = open('hello2.txt', 'w',encoding=\"utf-8\") #한글로 쓸 경우 인코딩 해 줘야 함 encoding=\"utf-8\"\n",
    "s = \"개미는 뚠뚠 오늘도 뚠뚠\"\n",
    "outfile.write(s)\n",
    "outfile.close()"
   ]
  },
  {
   "cell_type": "code",
   "execution_count": 82,
   "id": "a07040ba",
   "metadata": {},
   "outputs": [],
   "source": [
    "outfile = open('hello2.txt', 'a')\n",
    "s = \"i love this\" \n",
    "outfile.write(s)\n",
    "outfile.close()"
   ]
  },
  {
   "cell_type": "code",
   "execution_count": 83,
   "id": "d2703310",
   "metadata": {},
   "outputs": [
    {
     "name": "stdout",
     "output_type": "stream",
     "text": [
      "where did you get that?where did you get that?i love thisi love this\n",
      "---------\n"
     ]
    }
   ],
   "source": [
    "with open('hello2.txt','r') as infile:   #파일의 내용이 한글일 경우 인코딩 구문필요 encoding=\"utf-8\"\n",
    "    s = infile.read()\n",
    "    print(s)\n",
    "    \n",
    "print('---------')"
   ]
  },
  {
   "cell_type": "code",
   "execution_count": 86,
   "id": "a7c6f4fa",
   "metadata": {},
   "outputs": [
    {
     "name": "stdout",
     "output_type": "stream",
     "text": [
      "closed..\n"
     ]
    }
   ],
   "source": [
    "#file for write string.py p.403\n",
    "#FILE WRTELINES.PY p.404\n",
    "lines = ['love more\\n', 'worry less.']\n",
    "with open('hello3.txt', 'w') as outfile:\n",
    "    outfile.writelines(lines)\n",
    "print('closed..')"
   ]
  },
  {
   "cell_type": "code",
   "execution_count": 89,
   "id": "f4fd7ec9",
   "metadata": {},
   "outputs": [
    {
     "name": "stdout",
     "output_type": "stream",
     "text": [
      "love more\n",
      "worry less.\n",
      "closed\n"
     ]
    }
   ],
   "source": [
    "with open('hello3.txt', 'r') as infile:\n",
    "    lines = infile.readlines()\n",
    "    \n",
    "for line in lines:\n",
    "    print(line.strip('\\n'))\n",
    "    \n",
    "print('closed')"
   ]
  },
  {
   "cell_type": "code",
   "execution_count": 93,
   "id": "e55cb5ac",
   "metadata": {},
   "outputs": [],
   "source": [
    "import pickle\n",
    "\n",
    "name = 'james'\n",
    "age = 17\n",
    "address = '청주시 상당구'\n",
    "scores = {'korea' : 100, 'enflish':85, 'math': 70}\n",
    "with open('james.p', 'wb',) as outfile:\n",
    "    pickle.dump(name,outfile)\n",
    "    pickle.dump(age,outfile)\n",
    "    pickle.dump(address,outfile)\n",
    "    pickle.dump(scores,outfile)"
   ]
  },
  {
   "cell_type": "code",
   "execution_count": 95,
   "id": "361d34c9",
   "metadata": {},
   "outputs": [
    {
     "name": "stdout",
     "output_type": "stream",
     "text": [
      "james\n",
      "17\n",
      "청주시 상당구\n",
      "{'korea': 100, 'enflish': 85, 'math': 70}\n"
     ]
    }
   ],
   "source": [
    "import pickle\n",
    "\n",
    "with open('james.p', 'rb',) as infile:\n",
    "    name = pickle.load(infile)\n",
    "    age = pickle.load(infile)\n",
    "    address = pickle.load(infile)\n",
    "    scores = pickle.load(infile)\n",
    "    print(name)\n",
    "    print(age)\n",
    "    print(address)\n",
    "    print(scores)"
   ]
  },
  {
   "cell_type": "code",
   "execution_count": null,
   "id": "5901e48b",
   "metadata": {},
   "outputs": [],
   "source": []
  }
 ],
 "metadata": {
  "kernelspec": {
   "display_name": "Python 3",
   "language": "python",
   "name": "python3"
  },
  "language_info": {
   "codemirror_mode": {
    "name": "ipython",
    "version": 3
   },
   "file_extension": ".py",
   "mimetype": "text/x-python",
   "name": "python",
   "nbconvert_exporter": "python",
   "pygments_lexer": "ipython3",
   "version": "3.8.8"
  }
 },
 "nbformat": 4,
 "nbformat_minor": 5
}
