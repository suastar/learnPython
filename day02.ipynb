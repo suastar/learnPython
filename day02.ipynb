{
 "cells": [
  {
   "cell_type": "markdown",
   "id": "fc861ebe",
   "metadata": {},
   "source": [
    "# Unit4. 기본 문법 알아보기\n",
    "## 4.1 세미콜론\n",
    "파이썬은 구문이 끝날 때 세미콜론을 붙이지 않는다.  \n",
    "보통 한 줄에 여러문장을 사용할 때 세미콜론으로 구분"
   ]
  },
  {
   "cell_type": "code",
   "execution_count": 2,
   "id": "90c3ad03",
   "metadata": {},
   "outputs": [
    {
     "name": "stdout",
     "output_type": "stream",
     "text": [
      "python\n",
      "hello\n",
      "funny python\n"
     ]
    }
   ],
   "source": [
    "print('python');print('hello');print('funny python')"
   ]
  },
  {
   "cell_type": "markdown",
   "id": "fa6b4026",
   "metadata": {},
   "source": [
    "## 4.2 주석\n",
    "### 4.2.1 한 줄 주석\n",
    "한 줄 주석은 # 기호 하나로 적어준다. 위치는 어디건 상관없고 # 기호 이후의 부분은 설명문으로 간주함."
   ]
  },
  {
   "cell_type": "code",
   "execution_count": 4,
   "id": "c3f108f6",
   "metadata": {},
   "outputs": [],
   "source": [
    "# print('hello python')"
   ]
  },
  {
   "cell_type": "code",
   "execution_count": 5,
   "id": "e0249d2e",
   "metadata": {},
   "outputs": [
    {
     "name": "stdout",
     "output_type": "stream",
     "text": [
      "hello python\n"
     ]
    }
   ],
   "source": [
    "print('hello python') # 이 문장은 Hello python을 화면에 출력한다"
   ]
  },
  {
   "cell_type": "markdown",
   "id": "e405d44b",
   "metadata": {},
   "source": [
    "### 4.2.2 블록주석\n",
    "블록 주석은 각 줄마다 #을 넣어준다."
   ]
  },
  {
   "cell_type": "code",
   "execution_count": 14,
   "id": "41933922",
   "metadata": {},
   "outputs": [],
   "source": [
    "# print('hello python')\n",
    "# print('1234567890')"
   ]
  },
  {
   "cell_type": "markdown",
   "id": "dfb45cce",
   "metadata": {},
   "source": [
    "### 4.2.3 Multilin comment\n",
    "여러 라인에 걸쳐 주석 또는 설명을 적고자 할 때는 큰 따옴표 세개를 연속해서 \"\"\"사용"
   ]
  },
  {
   "cell_type": "code",
   "execution_count": 15,
   "id": "8c622156",
   "metadata": {},
   "outputs": [
    {
     "name": "stdout",
     "output_type": "stream",
     "text": [
      "hello korea\n"
     ]
    },
    {
     "data": {
      "text/plain": [
       "'\\n이것은 여러 라인에 걸친 주석으로\\n보통 세줄 이상의 텍스트 형태로\\n많은 설명을 적어야 할 때 사용함\\nblahblah\\n'"
      ]
     },
     "execution_count": 15,
     "metadata": {},
     "output_type": "execute_result"
    }
   ],
   "source": [
    "print(\"hello korea\")\n",
    "\"\"\"\n",
    "이것은 여러 라인에 걸친 주석으로\n",
    "보통 세줄 이상의 텍스트 형태로\n",
    "많은 설명을 적어야 할 때 사용함\n",
    "blahblah\n",
    "\"\"\""
   ]
  },
  {
   "cell_type": "markdown",
   "id": "a5522b32",
   "metadata": {},
   "source": [
    "## 4.3 들여쓰기\n",
    "indentation 코드를 읽기 쉽도록 일정한 간격을 띄워서 작성하는 방법\n",
    "if a > b :\n",
    "    print(\"a는 b보다 크다\")\n",
    "else:\n",
    "    print('a는 b보다 작다')\n",
    "    \n",
    "C, C++ Java 와 같은 언어에서 들여쓰기는 단지 권고사항일 뿐이지만, **파이썬에서는** 들여쓰기가 **반드시 지켜야 하는 문법사항**임.\n"
   ]
  },
  {
   "cell_type": "markdown",
   "id": "d172a5f3",
   "metadata": {},
   "source": [
    "## 4.4 코드블록\n",
    "특정한 동작을 위해서 코드가 모여 있는 상태를 뜻하며, 파이썬은 들여쓰기를 기준으로 코드 블록을 구성함.\n",
    "**단, 같은 블록은 들여쓰기 칸 수가 같아야 하고, 공백과 탭 문자를 섞어 쓰면 안된다**"
   ]
  },
  {
   "cell_type": "markdown",
   "id": "4224e9e9",
   "metadata": {},
   "source": [
    "### Data 처리하고자 하는 대상\n",
    "    숫자형(정수,실수,복소수), 문자열\n",
    "c,c++,java 와 같은 일반적 프로그램언어에서는 문자=글자하나'a' , 문자열=두 글자 이상 \"abc\"\n",
    "\n",
    "### Program 처리하는 방법, Process\n",
    "\n",
    "### Variable 변수 : 데이터를 보관하는 기억 장소(또는 기억장소의 이름)"
   ]
  },
  {
   "cell_type": "markdown",
   "id": "a2b8a118",
   "metadata": {},
   "source": [
    "# Unit5. 숫자 계산하기"
   ]
  },
  {
   "cell_type": "code",
   "execution_count": 21,
   "id": "75f9a472",
   "metadata": {},
   "outputs": [],
   "source": [
    "numberA = 10 # 정수형 데이터 10을 변수 numberA에 대입연산자 = 를 이용하여 할당assign함.\n",
    "numberB = 3.14155 # 실수형 데이터는 numberB라는 \n",
    "numberC = 5 + 4j\n",
    "strA = 'A'\n",
    "strB = 'Korea'\n",
    "boolA = True # boolean type : true, false 두 가지 정보만 표현할 수 있는 데이터 타입 철자의 대소문자를 구분함\n",
    "boolB = False "
   ]
  },
  {
   "cell_type": "code",
   "execution_count": 25,
   "id": "0f998e3c",
   "metadata": {},
   "outputs": [
    {
     "name": "stdout",
     "output_type": "stream",
     "text": [
      "<class 'int'>\n",
      "<class 'float'>\n",
      "<class 'complex'>\n",
      "<class 'str'>\n",
      "<class 'str'>\n",
      "<class 'bool'>\n",
      "<class 'bool'>\n",
      "<class 'float'>\n"
     ]
    }
   ],
   "source": [
    "print(type(numberA))\n",
    "print(type(numberB))\n",
    "print(type(numberC))\n",
    "print(type(strA))\n",
    "print(type(strB))\n",
    "print(type(boolA))\n",
    "print(type(boolB))\n",
    "print(type(3.445))"
   ]
  },
  {
   "cell_type": "code",
   "execution_count": 30,
   "id": "1ea949e6",
   "metadata": {},
   "outputs": [
    {
     "name": "stdout",
     "output_type": "stream",
     "text": [
      "1.6666666666666667\n",
      "1\n",
      "2\n",
      "125\n"
     ]
    }
   ],
   "source": [
    "# 파이썬에서 산술연산자 Arithmetic Operator\n",
    "# +,-,*,/,//(몫),%(나머지),**(거듭제곱)\n",
    "print(5 / 3) # 5를 3으로 나눈 결과\n",
    "print(5 // 3) # 5를 3으로 나눈 몫\n",
    "print(5 % 3) # 5를 3으로 나누었을 때 나머지\n",
    "print(5 ** 3) # 5의 3제곱"
   ]
  },
  {
   "cell_type": "code",
   "execution_count": 37,
   "id": "21be4c7c",
   "metadata": {},
   "outputs": [
    {
     "name": "stdout",
     "output_type": "stream",
     "text": [
      "<class 'float'>\n",
      "<class 'int'>\n",
      "<class 'float'>\n"
     ]
    }
   ],
   "source": [
    "# 형변환 Type Conversion :\n",
    "# 임의 데이터(연산의 결과) 타입을 원하는 데이터 타입으로 변환\n",
    "print(type(3.14))\n",
    "print(type(int(3.14)))\n",
    "print(type(float(100)))"
   ]
  },
  {
   "cell_type": "code",
   "execution_count": 40,
   "id": "867d9d78",
   "metadata": {},
   "outputs": [
    {
     "name": "stdout",
     "output_type": "stream",
     "text": [
      "['False', 'None', 'True', 'and', 'as', 'assert', 'async', 'await', 'break', 'class', 'continue', 'def', 'del', 'elif', 'else', 'except', 'finally', 'for', 'from', 'global', 'if', 'import', 'in', 'is', 'lambda', 'nonlocal', 'not', 'or', 'pass', 'raise', 'return', 'try', 'while', 'with', 'yield']\n"
     ]
    }
   ],
   "source": [
    "import keyword\n",
    "print(keyword.kwlist)"
   ]
  },
  {
   "cell_type": "code",
   "execution_count": 44,
   "id": "5f6e7ebb",
   "metadata": {},
   "outputs": [
    {
     "data": {
      "text/plain": [
       "20"
      ]
     },
     "execution_count": 44,
     "metadata": {},
     "output_type": "execute_result"
    }
   ],
   "source": [
    "a, b, c = 10, 20, 30\n",
    "a\n",
    "b"
   ]
  },
  {
   "cell_type": "code",
   "execution_count": 46,
   "id": "6fbd1163",
   "metadata": {},
   "outputs": [],
   "source": [
    "# 복합대입연산자\n",
    "# 산술연산자에 모두 적용\n",
    "a = 10\n",
    "a = a + 20 # a += 20\n",
    "a += 3 # a = a * 3\n",
    "\n",
    "# 증감연산자\n",
    "a = a + 1 # a++\n",
    "a = a - 1 # a--\n",
    "\n"
   ]
  },
  {
   "cell_type": "code",
   "execution_count": 48,
   "id": "13eac460",
   "metadata": {},
   "outputs": [
    {
     "name": "stdout",
     "output_type": "stream",
     "text": [
      "korea\n",
      "1 2 3\n"
     ]
    }
   ],
   "source": [
    "# 입력함수 input() #입력함수는 값을 전달받아서 출력\n",
    "print(\"korea\") #print는 출력함수 값을 화면에 찍어줌.\n",
    "print(1,2,3)"
   ]
  },
  {
   "cell_type": "code",
   "execution_count": 59,
   "id": "f734c82d",
   "metadata": {},
   "outputs": [
    {
     "name": "stdout",
     "output_type": "stream",
     "text": [
      "생년을 입력하세요 : 2021\n",
      "<class 'int'>\n",
      "2021년\n",
      "당신의 나이는0살이군요...\n"
     ]
    }
   ],
   "source": [
    "birthYear = input(\"생년을 입력하세요 : \")\n",
    "birthYear = int(birthYear) # input()로 받은 데이터는 문자열이기 때문에 형변환 # birthYear의 타입 형변환\n",
    "print(type(birthYear))     # print()함수에서 + 는 문자열과 문자열을 결합\n",
    "print(str(birthYear)+\"년\") \n",
    "age = 2021 - birthYear\n",
    "print(\"당신의 나이는\" + str(age) + \"살이군요...\") # age를 문자열로 형변환"
   ]
  },
  {
   "cell_type": "code",
   "execution_count": 64,
   "id": "fbf01ae2",
   "metadata": {},
   "outputs": [
    {
     "name": "stdout",
     "output_type": "stream",
     "text": [
      "2개의 숫자를 입력하세요10, 20\n",
      "10  20\n"
     ]
    }
   ],
   "source": [
    "#print(\"korea\") 여기서 괄호안에 입력하는 값을 parameter list or arguments 라고 함.\n",
    "a, b = input(\"2개의 숫자를 입력하세요\").split(',')\n",
    "print(a, b)"
   ]
  },
  {
   "cell_type": "code",
   "execution_count": 69,
   "id": "98ba787e",
   "metadata": {},
   "outputs": [
    {
     "name": "stdout",
     "output_type": "stream",
     "text": [
      "2개의 숫자를 입력하세요10 20\n",
      "30\n"
     ]
    }
   ],
   "source": [
    "a, b = map(int, input(\"2개의 숫자를 입력하세요\").split())\n",
    "print(a+b)"
   ]
  },
  {
   "cell_type": "code",
   "execution_count": 74,
   "id": "65489467",
   "metadata": {},
   "outputs": [
    {
     "name": "stdout",
     "output_type": "stream",
     "text": [
      "10....20\n"
     ]
    }
   ],
   "source": [
    "#print(a, b, \"korea\", sep='@') #sep은 나열한 값을 이 기호로 구분해\n",
    "print(a, end=\"....\") #print 구문에는 sep 과 end 를 적어줄 수 있음\n",
    "print(b)"
   ]
  },
  {
   "cell_type": "code",
   "execution_count": 78,
   "id": "b195c314",
   "metadata": {},
   "outputs": [
    {
     "data": {
      "text/plain": [
       "True"
      ]
     },
     "execution_count": 78,
     "metadata": {},
     "output_type": "execute_result"
    }
   ],
   "source": [
    "10 > 5 #bool type의 연산자 >,< "
   ]
  },
  {
   "cell_type": "code",
   "execution_count": 88,
   "id": "8ababf5c",
   "metadata": {},
   "outputs": [
    {
     "data": {
      "text/plain": [
       "False"
      ]
     },
     "execution_count": 88,
     "metadata": {},
     "output_type": "execute_result"
    }
   ],
   "source": [
    "10 < 5 and 9 < 4"
   ]
  },
  {
   "cell_type": "code",
   "execution_count": 82,
   "id": "3a2e908e",
   "metadata": {},
   "outputs": [],
   "source": [
    "# 관계연산자 : >, <, >=, <=, ==, !=\n",
    "# 논리연산자 : and, or, not"
   ]
  },
  {
   "cell_type": "code",
   "execution_count": 84,
   "id": "bc95294d",
   "metadata": {},
   "outputs": [
    {
     "data": {
      "text/plain": [
       "True"
      ]
     },
     "execution_count": 84,
     "metadata": {},
     "output_type": "execute_result"
    }
   ],
   "source": [
    "1 == 1.0"
   ]
  },
  {
   "cell_type": "code",
   "execution_count": 86,
   "id": "4367f44e",
   "metadata": {},
   "outputs": [
    {
     "name": "stdout",
     "output_type": "stream",
     "text": [
      "<class 'int'>\n",
      "<class 'float'>\n"
     ]
    }
   ],
   "source": [
    "print(type(1))\n",
    "print(type(1.0))"
   ]
  },
  {
   "cell_type": "code",
   "execution_count": 87,
   "id": "29ceadb1",
   "metadata": {},
   "outputs": [
    {
     "name": "stderr",
     "output_type": "stream",
     "text": [
      "<>:1: SyntaxWarning: \"is\" with a literal. Did you mean \"==\"?\n",
      "<>:1: SyntaxWarning: \"is\" with a literal. Did you mean \"==\"?\n",
      "<ipython-input-87-2ebf4c947f31>:1: SyntaxWarning: \"is\" with a literal. Did you mean \"==\"?\n",
      "  1 is 1.0\n"
     ]
    },
    {
     "data": {
      "text/plain": [
       "False"
      ]
     },
     "execution_count": 87,
     "metadata": {},
     "output_type": "execute_result"
    }
   ],
   "source": [
    "1 is 1.0 #객체가 같은지를 비교를 한다 값의 비교 오브젝트의 비교 등"
   ]
  }
 ],
 "metadata": {
  "kernelspec": {
   "display_name": "Python 3",
   "language": "python",
   "name": "python3"
  },
  "language_info": {
   "codemirror_mode": {
    "name": "ipython",
    "version": 3
   },
   "file_extension": ".py",
   "mimetype": "text/x-python",
   "name": "python",
   "nbconvert_exporter": "python",
   "pygments_lexer": "ipython3",
   "version": "3.8.8"
  }
 },
 "nbformat": 4,
 "nbformat_minor": 5
}
