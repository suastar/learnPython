{
 "cells": [
  {
   "cell_type": "markdown",
   "id": "549c090c",
   "metadata": {},
   "source": [
    "##### 앞자리에 앉은 사람인데요,\n",
    "##### 제 컴퓨터가 업데이트가 너무 오래걸려서 여기서 작업했어요~\n",
    "##### 오늘 결석하셔서 수업내용 모르실텐데 이거보시고 공부하시면 될 것 같아요~^^\n",
    "\n",
    "\n",
    "# Unit 13. 제어문의 이해와 활용 (+ unit 14, 15포함)\n",
    "## 1. 조건문 Conditional Statement\n",
    "조건에 따라 실행할 코드블록을 달리 구성하여 프로그램의 흐름을 제어할 수 있다.\n",
    "Syntax :\n",
    "<pre> \n",
    "if 조건식 : \n",
    "    실행문장1   #띄어쓰기 4칸\n",
    "    실행문장2   #위에와 동일\n",
    "else : \n",
    "    실행문장1\n",
    "    실행문장2  \n",
    "</pre>    \n",
    "\n",
    "\n",
    "pre, /pre는 html.. (markdown 상태라서 사용,,)"
   ]
  },
  {
   "cell_type": "code",
   "execution_count": 5,
   "id": "3db634a6",
   "metadata": {},
   "outputs": [
    {
     "name": "stdout",
     "output_type": "stream",
     "text": [
      "생년은?2000\n",
      "성년, 입장 가능\n",
      "성년이세용ㅋㅋ\n",
      "프로그램 종료.\n"
     ]
    }
   ],
   "source": [
    "birthYear = int(input(\"생년은?\"))\n",
    "age = 2021 - birthYear\n",
    "\n",
    "if age >= 20 :\n",
    "    print(\"성년, 입장 가능\")  \n",
    "    print(\"성년이세용ㅋㅋ\")\n",
    "else :\n",
    "    print(\"미성년, 입장 불가\")\n",
    "    print(\"미성년이잖아용ㅋㅋ\")\n",
    "print(\"프로그램 종료.\")    "
   ]
  },
  {
   "cell_type": "code",
   "execution_count": 11,
   "id": "7be3eb43",
   "metadata": {},
   "outputs": [
    {
     "name": "stdout",
     "output_type": "stream",
     "text": [
      "숫자를 입력하세요: 5\n",
      "홀수입니다.\n",
      "다른수를 넣어 확인해보세요.\n"
     ]
    }
   ],
   "source": [
    "# 연습문제 1. 숫자를 입력받아 홀수인지 짝수인지 판단하여 출력하는 프로그램을 작성해보세요.\n",
    "# Hint) 홀수인지 짝수인지를 어떤 방법으로 할건지? : 2로 나누어서 나머지가 0이면 짝수, 아니면 홀수!\n",
    "\n",
    "a = int(input('숫자를 입력하세요: ')) #소수점 자리가 있는 실수를 넣어도 int가 되어있어서 정수로 만들어 계산됨\n",
    "b = a % 2\n",
    "\n",
    "if  b == 0 :   #그냥 = 만 하면 안되고 '0과 같다'를 표현하려면 '=='으로 표현함.\n",
    "    print(\"짝수입니다.\")\n",
    "else : \n",
    "    print(\"홀수입니다.\")\n",
    "print(\"다른수를 넣어 확인해보세요.\")"
   ]
  },
  {
   "cell_type": "code",
   "execution_count": 35,
   "id": "27d07109",
   "metadata": {},
   "outputs": [
    {
     "name": "stdout",
     "output_type": "stream",
     "text": [
      "숫자를 입력해주세용: 18\n",
      "숫자 18는 3의 배수입니다~\n",
      "다시해보세요~\n"
     ]
    }
   ],
   "source": [
    "# 연습문제 2. 숫자를 입력받아 3,5의 공배수인지 판단하여 출력하는 프로그램을 작성해 보세요.\n",
    "# Hint) 3의 배수도 되고 5의 배수도 되어야 함 3과 5로 나눌때 0으로 떨어지는 숫자가 3과 5의 공배수. \n",
    "# Hint) 논리연산자 and or not 사용하여 만들어보기\n",
    "\n",
    "a = int(input('숫자를 입력해주세용: '))\n",
    "if  a % 3 == 0 and a % 5 == 0 :  # 3으로도 나누어져야 하고, 5로도 나누어져야 하므로 == 0 을 각각 설정함 // 3과 5의 공배수인 경우\n",
    "    print(f\"숫자 {a}는 3과 5의 공배수입니다~\")\n",
    "elif a % 3 == 0 :  # else 랑 if 를 더한말. 파이썬에서는 이렇게 표현함  # 3의 배수인 경우\n",
    "    print(f\"숫자 {a}는 3의 배수입니다~\")\n",
    "    print(\"다시해보세요~\")\n",
    "elif a % 5 == 0 :   # 5의 배수인 경우\n",
    "    print(f\"숫자 {a}는 5의 배수입니다~\")\n",
    "    print(\"다시해보세요~\")\n",
    "else :                  # 둘 다 만족하지 않을 경우\n",
    "    print(f\"숫자 {a}는 3과 5의 배수도 아니고 공배수도 아닙니다~\")\n",
    "    print(\"다시해보세요~\")"
   ]
  },
  {
   "cell_type": "code",
   "execution_count": 37,
   "id": "54e57b85",
   "metadata": {},
   "outputs": [
    {
     "name": "stdout",
     "output_type": "stream",
     "text": [
      "생년을 입력하세요: 2005\n",
      "부모님 동행 확인, 동행:1, 미동행:01\n",
      "성년\n"
     ]
    }
   ],
   "source": [
    "# 연습문제 3. 성년인지 확인하고 미성년자일 경우 부모 동반시 입장 가능, 미동반시 입장 불가능을 출력하는 프로그램 작성하기\n",
    "\n",
    "birhYear = int(input('생년을 입력하세요: '))\n",
    "age = 2021 - birthYear\n",
    "withParents = int(input(\"부모님 동행 확인, 동행:1, 미동행:0\"))\n",
    "\n",
    "if age >= 20 : \n",
    "    print(\"성년\")\n",
    "elif withParents == 1 :\n",
    "    print(\"입장가능\")\n",
    "elif withParents == 0 :\n",
    "    print(\"입장불가능\")"
   ]
  },
  {
   "cell_type": "code",
   "execution_count": null,
   "id": "77f0770f",
   "metadata": {},
   "outputs": [],
   "source": [
    "# 중첩 if 조건문 사용하기 (Nested if문 / 중첩된, 내포된 if문.../ 무한히 사용가능하나 너무 많이 사용하면 로직파악이 힘들어용)\n",
    "\n",
    "if gender == 'M' :\n",
    "    if age >= 50 :\n",
    "        print(\"라떼...?\")\n",
    "    elif age >= 30 : \n",
    "        print(\"청장년..\")\n",
    "    elif age >=20 :\n",
    "        print(\"꽃청년쓰..\")\n",
    "    else : \n",
    "        print(\"Baby...ㅋㅋ\")\n",
    "else :\n",
    "    if age >= 50 :\n",
    "        print(\"50이상 여성\")\n",
    "    elif age >= 30 : \n",
    "        print(\"30이상 50미만 여성\")\n",
    "    elif age >=20 :\n",
    "        print(\"그저 리즈..\")\n",
    "    else : \n",
    "        print(\"Baby...ㅋㅋ\")\n"
   ]
  },
  {
   "cell_type": "code",
   "execution_count": 41,
   "id": "ae9bd753",
   "metadata": {},
   "outputs": [
    {
     "name": "stdout",
     "output_type": "stream",
     "text": [
      "20보다 작은 양의 정수\n"
     ]
    }
   ],
   "source": [
    "x = 5\n",
    "if 0 < x < 20 :    #파이썬에서만 사용 가능함 (다른 프로그래밍 언어에서는 허용안됨)\n",
    "    print(\"20보다 작은 양의 정수\")"
   ]
  },
  {
   "cell_type": "code",
   "execution_count": 70,
   "id": "406337e2",
   "metadata": {},
   "outputs": [
    {
     "name": "stdout",
     "output_type": "stream",
     "text": [
      "나이?:10\n",
      "초등학생\n",
      "현재 잔액은 8350원 입니다.\n"
     ]
    }
   ],
   "source": [
    "# 교재 202페이지 심사문제 풀어보기\n",
    "\n",
    "# if와 elif 사용하기\n",
    "# 입력값은 7이상 입력됨 (그러 7세 이하는?)\n",
    "# 어린이 -650, 청소년 -1050, 어른 -1250\n",
    "# 잔액을 표시하여 문장 출력\n",
    "# 프로그래밍에는 정답은 없지만 결과가 같으면 됨,,\n",
    "\n",
    "age = int(input('나이?:'))\n",
    "balance = 9000   #교통카드 잔액\n",
    "\n",
    "if 7 <= age <= 12 :\n",
    "    print('초등학생')\n",
    "    print(f\"현재 잔액은 {balance - 650}원 입니다.\")\n",
    "elif 13 <= age <= 18 :\n",
    "    print('청소년')\n",
    "    print(f\"현재 잔액은 {balance - 1050}원 입니다.\")\n",
    "elif 19 <= age :\n",
    "    print('일반')\n",
    "    print(f\"현재 잔액은 {balance - 1250}원 입니다.\") \n",
    "else :\n",
    "    print('요금 받지 않습니다.')\n",
    "    \n",
    "# 이렇게 될때 큰 단점은 balance 값이 각각 다를경우 일일이 설정해줘야함"
   ]
  },
  {
   "cell_type": "markdown",
   "id": "baf7a710",
   "metadata": {},
   "source": [
    "## Unit 16. 반복문 Iterative Statement (Loop Control)"
   ]
  },
  {
   "cell_type": "code",
   "execution_count": 73,
   "id": "55b89500",
   "metadata": {},
   "outputs": [
    {
     "name": "stdout",
     "output_type": "stream",
     "text": [
      "1\n",
      "3\n",
      "5\n",
      "7\n",
      "9\n"
     ]
    }
   ],
   "source": [
    "# for 이용하기\n",
    "# 1~100까지 출력한다면 - for i in range(1, 101)\n",
    "\n",
    "#range(5): 0부터 5개의 숫자를 생성\n",
    "#range(시작숫자, 미만숫자) :시작숫자부터 미만 전까지의 숫자를 생성\n",
    "#range(1, 11, 2) : 1~10까지 숫자를 2씩 증가시키면서\n",
    "\n",
    "for i in range(1,11,2) : \n",
    "    print(i)"
   ]
  },
  {
   "cell_type": "code",
   "execution_count": 78,
   "id": "8e59df36",
   "metadata": {},
   "outputs": [
    {
     "name": "stdout",
     "output_type": "stream",
     "text": [
      "H\n",
      "e\n",
      "l\n",
      "l\n",
      "o\n"
     ]
    }
   ],
   "source": [
    "# 문자열도 가능\n",
    "\n",
    "for ch in \"Hello\":\n",
    "    print(ch)\n",
    "    "
   ]
  },
  {
   "cell_type": "code",
   "execution_count": 79,
   "id": "fd475ab7",
   "metadata": {},
   "outputs": [
    {
     "name": "stdout",
     "output_type": "stream",
     "text": [
      "Korea\n",
      "----\n",
      "K\n",
      "o\n",
      "r\n",
      "e\n",
      "a\n",
      "South\n",
      "----\n",
      "S\n",
      "o\n",
      "u\n",
      "t\n",
      "h\n",
      "python\n",
      "----\n",
      "p\n",
      "y\n",
      "t\n",
      "h\n",
      "o\n",
      "n\n",
      "hello\n",
      "----\n",
      "h\n",
      "e\n",
      "l\n",
      "l\n",
      "o\n"
     ]
    }
   ],
   "source": [
    "words = [\"Korea\", \"South\", \"python\", \"hello\" ]\n",
    "for word in words :\n",
    "    print(word)\n",
    "    print(\"----\")\n",
    "    for ch in word :\n",
    "        print(ch)\n",
    "    "
   ]
  },
  {
   "cell_type": "code",
   "execution_count": 81,
   "id": "28ae6a11",
   "metadata": {},
   "outputs": [
    {
     "name": "stdout",
     "output_type": "stream",
     "text": [
      "몇번이나 반복할까요?8\n",
      "만세~ 0\n",
      "만세~ 1\n",
      "만세~ 2\n",
      "만세~ 3\n",
      "만세~ 4\n",
      "만세~ 5\n",
      "만세~ 6\n",
      "만세~ 7\n"
     ]
    }
   ],
   "source": [
    "#입력한 횟수대로 반복하기 \n",
    "\n",
    "cnt = int(input(\"몇번이나 반복할까요?\"))\n",
    "for i in range(cnt) :\n",
    "    print(\"만세~\", i)"
   ]
  },
  {
   "cell_type": "code",
   "execution_count": 87,
   "id": "8e10115f",
   "metadata": {},
   "outputs": [
    {
     "name": "stdout",
     "output_type": "stream",
     "text": [
      "Korea\n",
      "----\n",
      "K o r e a \n",
      "South\n",
      "----\n",
      "S o u t h \n",
      "python\n",
      "----\n",
      "p y t h o n \n",
      "hello\n",
      "----\n",
      "h e l l o \n"
     ]
    }
   ],
   "source": [
    "words = [\"Korea\", \"South\", \"python\", \"hello\" ]\n",
    "for word in words :\n",
    "    print(word)\n",
    "    print(\"----\")\n",
    "    for ch in word :\n",
    "        print(ch, end=' ')\n",
    "    print()"
   ]
  },
  {
   "cell_type": "code",
   "execution_count": 88,
   "id": "b1dc199a",
   "metadata": {},
   "outputs": [
    {
     "name": "stdout",
     "output_type": "stream",
     "text": [
      "1\n",
      "2\n",
      "3\n",
      "4\n",
      "5\n",
      "--------------------------------------------------\n"
     ]
    }
   ],
   "source": [
    "# while구문을 이용한 반복문 (교재 220p)\n",
    "\n",
    "i = 1\n",
    "while i <= 5 : # 조건식\n",
    "    print(i)    # 반복\n",
    "    i += 1      # 요거 빼먹으면 무한루프...(226p)\n",
    "print(\"-\"*50)"
   ]
  }
 ],
 "metadata": {
  "kernelspec": {
   "display_name": "Python 3",
   "language": "python",
   "name": "python3"
  },
  "language_info": {
   "codemirror_mode": {
    "name": "ipython",
    "version": 3
   },
   "file_extension": ".py",
   "mimetype": "text/x-python",
   "name": "python",
   "nbconvert_exporter": "python",
   "pygments_lexer": "ipython3",
   "version": "3.8.8"
  }
 },
 "nbformat": 4,
 "nbformat_minor": 5
}
