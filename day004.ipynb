{
 "cells": [
  {
   "cell_type": "code",
   "execution_count": 2,
   "id": "4755f32a",
   "metadata": {},
   "outputs": [
    {
     "name": "stdout",
     "output_type": "stream",
     "text": [
      "x에 들어있는 숫자는\n",
      "10입니다\n"
     ]
    }
   ],
   "source": [
    "x = 10\n",
    "if x == 10:\n",
    "    print('x에 들어있는 숫자는')\n",
    "    print('10입니다')"
   ]
  },
  {
   "cell_type": "code",
   "execution_count": 5,
   "id": "c3783ae6",
   "metadata": {},
   "outputs": [
    {
     "name": "stdout",
     "output_type": "stream",
     "text": [
      "x에 들어있는 숫자는\n",
      "10입니다\n"
     ]
    }
   ],
   "source": [
    "x = 10\n",
    "if x == 10:\n",
    "  print('x에 들어있는 숫자는')\n",
    "  print('10입니다')"
   ]
  },
  {
   "cell_type": "code",
   "execution_count": 7,
   "id": "846956e5",
   "metadata": {},
   "outputs": [
    {
     "name": "stdout",
     "output_type": "stream",
     "text": [
      "10이상입니다.\n",
      "15입니다\n"
     ]
    }
   ],
   "source": [
    "x = 15\n",
    "if x >= 10:\n",
    "    print('10이상입니다.')\n",
    "    \n",
    "    if x == 15:\n",
    "        print('15입니다')\n",
    "        \n",
    "    if x == 20:\n",
    "        print('20입니다')"
   ]
  },
  {
   "cell_type": "code",
   "execution_count": 8,
   "id": "0abe8718",
   "metadata": {},
   "outputs": [
    {
     "name": "stdout",
     "output_type": "stream",
     "text": [
      "15입니다\n"
     ]
    }
   ],
   "source": [
    "if x >= 10:\n",
    "    if x == 15:\n",
    "        print('15입니다')\n",
    "        \n",
    "    if x == 20:\n",
    "        print('20입니다')"
   ]
  },
  {
   "cell_type": "code",
   "execution_count": 11,
   "id": "6684c483",
   "metadata": {},
   "outputs": [
    {
     "name": "stdout",
     "output_type": "stream",
     "text": [
      "20\n",
      "20입니다\n"
     ]
    }
   ],
   "source": [
    "x = int(input())\n",
    "\n",
    "if x == 10:\n",
    "    print('10입니다')\n",
    "    \n",
    "if x == 20:\n",
    "    print('20입니다')"
   ]
  },
  {
   "cell_type": "code",
   "execution_count": 12,
   "id": "de187b2c",
   "metadata": {},
   "outputs": [
    {
     "name": "stdout",
     "output_type": "stream",
     "text": [
      "10이 아닙니다\n"
     ]
    }
   ],
   "source": [
    "x = 5\n",
    "if x == 10:\n",
    "    print('10입니다')\n",
    "else:\n",
    "    print('10이 아닙니다')\n",
    "    \n",
    "    "
   ]
  },
  {
   "cell_type": "code",
   "execution_count": 14,
   "id": "1b444480",
   "metadata": {},
   "outputs": [
    {
     "name": "stdout",
     "output_type": "stream",
     "text": [
      "거짓\n",
      "참\n",
      "참\n",
      "참\n",
      "참\n"
     ]
    }
   ],
   "source": [
    "if 0:\n",
    "    print('참')\n",
    "    \n",
    "else:\n",
    "    print('거짓') #0은 거짓\n",
    "\n",
    "if 1:\n",
    "    print('참') #1은 참\n",
    "    \n",
    "else:\n",
    "    print('거짓')\n",
    "    \n",
    "\n",
    "if 0x1f: #16진수\n",
    "    print('참') # 01xf는 참\n",
    "    \n",
    "else:\n",
    "    print('거짓')\n",
    "    \n",
    "if 0b1000: #2진수\n",
    "    print('참') #0b1000은 참\n",
    "\n",
    "else:\n",
    "    print('거짓')\n",
    "    \n",
    "if 13.5: #실수\n",
    "    print('참') #13.5는 참\n",
    "    \n",
    "else:\n",
    "    print('거짓')"
   ]
  },
  {
   "cell_type": "code",
   "execution_count": 15,
   "id": "d0875e09",
   "metadata": {},
   "outputs": [
    {
     "name": "stdout",
     "output_type": "stream",
     "text": [
      "참\n",
      "거짓\n"
     ]
    }
   ],
   "source": [
    "if 'hello': #문자열\n",
    "    print('참')  #문자열은 참\n",
    "\n",
    "else:\n",
    "    print(거짓)\n",
    "    \n",
    "if '': #빈 문자열\n",
    "    print('참')\n",
    "\n",
    "else:\n",
    "    print('거짓') #빈 문자열은 거짓"
   ]
  },
  {
   "cell_type": "code",
   "execution_count": 16,
   "id": "c193d79b",
   "metadata": {},
   "outputs": [
    {
     "name": "stdout",
     "output_type": "stream",
     "text": [
      "참\n"
     ]
    }
   ],
   "source": [
    "x = 10\n",
    "y = 20\n",
    "\n",
    "if x == 10 and y == 20: # x가 10 이면서 y가 20일 때\n",
    "    print('참')\n",
    "else:\n",
    "    print('거짓')"
   ]
  },
  {
   "cell_type": "code",
   "execution_count": 17,
   "id": "d4731c2e",
   "metadata": {},
   "outputs": [
    {
     "ename": "NameError",
     "evalue": "name 'true' is not defined",
     "output_type": "error",
     "traceback": [
      "\u001b[1;31m---------------------------------------------------------------------------\u001b[0m",
      "\u001b[1;31mNameError\u001b[0m                                 Traceback (most recent call last)",
      "\u001b[1;32m<ipython-input-17-b7cb3a30859d>\u001b[0m in \u001b[0;36m<module>\u001b[1;34m\u001b[0m\n\u001b[0;32m      1\u001b[0m \u001b[1;32mif\u001b[0m \u001b[1;32mnot\u001b[0m\u001b[1;34m''\u001b[0m\u001b[1;33m:\u001b[0m\u001b[1;33m\u001b[0m\u001b[1;33m\u001b[0m\u001b[0m\n\u001b[1;32m----> 2\u001b[1;33m     \u001b[0mprint\u001b[0m\u001b[1;33m(\u001b[0m\u001b[0mtrue\u001b[0m\u001b[1;33m)\u001b[0m\u001b[1;33m\u001b[0m\u001b[1;33m\u001b[0m\u001b[0m\n\u001b[0m\u001b[0;32m      3\u001b[0m \u001b[1;32melse\u001b[0m\u001b[1;33m:\u001b[0m\u001b[1;33m\u001b[0m\u001b[1;33m\u001b[0m\u001b[0m\n\u001b[0;32m      4\u001b[0m     \u001b[0mprint\u001b[0m\u001b[1;33m(\u001b[0m\u001b[0mfalse\u001b[0m\u001b[1;33m)\u001b[0m\u001b[1;33m\u001b[0m\u001b[1;33m\u001b[0m\u001b[0m\n",
      "\u001b[1;31mNameError\u001b[0m: name 'true' is not defined"
     ]
    }
   ],
   "source": [
    "if not'':\n",
    "    print(true)\n",
    "else:\n",
    "    print(false)"
   ]
  }
 ],
 "metadata": {
  "kernelspec": {
   "display_name": "Python 3",
   "language": "python",
   "name": "python3"
  },
  "language_info": {
   "codemirror_mode": {
    "name": "ipython",
    "version": 3
   },
   "file_extension": ".py",
   "mimetype": "text/x-python",
   "name": "python",
   "nbconvert_exporter": "python",
   "pygments_lexer": "ipython3",
   "version": "3.8.8"
  }
 },
 "nbformat": 4,
 "nbformat_minor": 5
}
