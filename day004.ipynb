{
 "cells": [
  {
   "cell_type": "code",
   "execution_count": 2,
   "id": "4755f32a",
   "metadata": {},
   "outputs": [
    {
     "name": "stdout",
     "output_type": "stream",
     "text": [
      "x에 들어있는 숫자는\n",
      "10입니다\n"
     ]
    }
   ],
   "source": [
    "x = 10\n",
    "if x == 10:\n",
    "    print('x에 들어있는 숫자는')\n",
    "    print('10입니다')"
   ]
  },
  {
   "cell_type": "code",
   "execution_count": 5,
   "id": "c3783ae6",
   "metadata": {},
   "outputs": [
    {
     "name": "stdout",
     "output_type": "stream",
     "text": [
      "x에 들어있는 숫자는\n",
      "10입니다\n"
     ]
    }
   ],
   "source": [
    "x = 10\n",
    "if x == 10:\n",
    "  print('x에 들어있는 숫자는')\n",
    "  print('10입니다')"
   ]
  },
  {
   "cell_type": "code",
   "execution_count": 7,
   "id": "846956e5",
   "metadata": {},
   "outputs": [
    {
     "name": "stdout",
     "output_type": "stream",
     "text": [
      "10이상입니다.\n",
      "15입니다\n"
     ]
    }
   ],
   "source": [
    "x = 15\n",
    "if x >= 10:\n",
    "    print('10이상입니다.')\n",
    "    \n",
    "    if x == 15:\n",
    "        print('15입니다')\n",
    "        \n",
    "    if x == 20:\n",
    "        print('20입니다')"
   ]
  },
  {
   "cell_type": "code",
   "execution_count": 8,
   "id": "0abe8718",
   "metadata": {},
   "outputs": [
    {
     "name": "stdout",
     "output_type": "stream",
     "text": [
      "15입니다\n"
     ]
    }
   ],
   "source": [
    "if x >= 10:\n",
    "    if x == 15:\n",
    "        print('15입니다')\n",
    "        \n",
    "    if x == 20:\n",
    "        print('20입니다')"
   ]
  },
  {
   "cell_type": "code",
   "execution_count": 11,
   "id": "6684c483",
   "metadata": {},
   "outputs": [
    {
     "name": "stdout",
     "output_type": "stream",
     "text": [
      "20\n",
      "20입니다\n"
     ]
    }
   ],
   "source": [
    "x = int(input())\n",
    "\n",
    "if x == 10:\n",
    "    print('10입니다')\n",
    "    \n",
    "if x == 20:\n",
    "    print('20입니다')"
   ]
  },
  {
   "cell_type": "code",
   "execution_count": 12,
   "id": "de187b2c",
   "metadata": {},
   "outputs": [
    {
     "name": "stdout",
     "output_type": "stream",
     "text": [
      "10이 아닙니다\n"
     ]
    }
   ],
   "source": [
    "x = 5\n",
    "if x == 10:\n",
    "    print('10입니다')\n",
    "else:\n",
    "    print('10이 아닙니다')\n",
    "    \n",
    "    "
   ]
  },
  {
   "cell_type": "code",
   "execution_count": 14,
   "id": "1b444480",
   "metadata": {},
   "outputs": [
    {
     "name": "stdout",
     "output_type": "stream",
     "text": [
      "거짓\n",
      "참\n",
      "참\n",
      "참\n",
      "참\n"
     ]
    }
   ],
   "source": [
    "if 0:\n",
    "    print('참')\n",
    "    \n",
    "else:\n",
    "    print('거짓') #0은 거짓\n",
    "\n",
    "if 1:\n",
    "    print('참') #1은 참\n",
    "    \n",
    "else:\n",
    "    print('거짓')\n",
    "    \n",
    "\n",
    "if 0x1f: #16진수\n",
    "    print('참') # 01xf는 참\n",
    "    \n",
    "else:\n",
    "    print('거짓')\n",
    "    \n",
    "if 0b1000: #2진수\n",
    "    print('참') #0b1000은 참\n",
    "\n",
    "else:\n",
    "    print('거짓')\n",
    "    \n",
    "if 13.5: #실수\n",
    "    print('참') #13.5는 참\n",
    "    \n",
    "else:\n",
    "    print('거짓')"
   ]
  },
  {
   "cell_type": "code",
   "execution_count": 15,
   "id": "d0875e09",
   "metadata": {},
   "outputs": [
    {
     "name": "stdout",
     "output_type": "stream",
     "text": [
      "참\n",
      "거짓\n"
     ]
    }
   ],
   "source": [
    "if 'hello': #문자열\n",
    "    print('참')  #문자열은 참\n",
    "\n",
    "else:\n",
    "    print(거짓)\n",
    "    \n",
    "if '': #빈 문자열\n",
    "    print('참')\n",
    "\n",
    "else:\n",
    "    print('거짓') #빈 문자열은 거짓"
   ]
  },
  {
   "cell_type": "code",
   "execution_count": 16,
   "id": "c193d79b",
   "metadata": {},
   "outputs": [
    {
     "name": "stdout",
     "output_type": "stream",
     "text": [
      "참\n"
     ]
    }
   ],
   "source": [
    "x = 10\n",
    "y = 20\n",
    "\n",
    "if x == 10 and y == 20: # x가 10 이면서 y가 20일 때\n",
    "    print('참')\n",
    "else:\n",
    "    print('거짓')"
   ]
  },
  {
   "cell_type": "code",
   "execution_count": 18,
   "id": "d4731c2e",
   "metadata": {},
   "outputs": [
    {
     "ename": "NameError",
     "evalue": "name 'true' is not defined",
     "output_type": "error",
     "traceback": [
      "\u001b[1;31m---------------------------------------------------------------------------\u001b[0m",
      "\u001b[1;31mNameError\u001b[0m                                 Traceback (most recent call last)",
      "\u001b[1;32m<ipython-input-18-b7cb3a30859d>\u001b[0m in \u001b[0;36m<module>\u001b[1;34m\u001b[0m\n\u001b[0;32m      1\u001b[0m \u001b[1;32mif\u001b[0m \u001b[1;32mnot\u001b[0m\u001b[1;34m''\u001b[0m\u001b[1;33m:\u001b[0m\u001b[1;33m\u001b[0m\u001b[1;33m\u001b[0m\u001b[0m\n\u001b[1;32m----> 2\u001b[1;33m     \u001b[0mprint\u001b[0m\u001b[1;33m(\u001b[0m\u001b[0mtrue\u001b[0m\u001b[1;33m)\u001b[0m\u001b[1;33m\u001b[0m\u001b[1;33m\u001b[0m\u001b[0m\n\u001b[0m\u001b[0;32m      3\u001b[0m \u001b[1;32melse\u001b[0m\u001b[1;33m:\u001b[0m\u001b[1;33m\u001b[0m\u001b[1;33m\u001b[0m\u001b[0m\n\u001b[0;32m      4\u001b[0m     \u001b[0mprint\u001b[0m\u001b[1;33m(\u001b[0m\u001b[0mfalse\u001b[0m\u001b[1;33m)\u001b[0m\u001b[1;33m\u001b[0m\u001b[1;33m\u001b[0m\u001b[0m\n",
      "\u001b[1;31mNameError\u001b[0m: name 'true' is not defined"
     ]
    }
   ],
   "source": [
    "if not'':\n",
    "    print(true)\n",
    "else:\n",
    "    print(false)"
   ]
  },
  {
   "cell_type": "code",
   "execution_count": 20,
   "id": "acc2a0ac",
   "metadata": {},
   "outputs": [
    {
     "name": "stdout",
     "output_type": "stream",
     "text": [
      "hello,sorld! 0 hello,sorld! 1 hello,sorld! 2 hello,sorld! 3 hello,sorld! 4 hello,sorld! 5 hello,sorld! 6 hello,sorld! 7 hello,sorld! 8 hello,sorld! 9 hello,sorld! 10 hello,sorld! 11 hello,sorld! 12 hello,sorld! 13 hello,sorld! 14 hello,sorld! 15 hello,sorld! 16 hello,sorld! 17 hello,sorld! 18 hello,sorld! 19 hello,sorld! 20 hello,sorld! 21 hello,sorld! 22 hello,sorld! 23 hello,sorld! 24 hello,sorld! 25 hello,sorld! 26 hello,sorld! 27 hello,sorld! 28 hello,sorld! 29 hello,sorld! 30 hello,sorld! 31 hello,sorld! 32 hello,sorld! 33 hello,sorld! 34 hello,sorld! 35 hello,sorld! 36 hello,sorld! 37 hello,sorld! 38 hello,sorld! 39 hello,sorld! 40 hello,sorld! 41 hello,sorld! 42 hello,sorld! 43 hello,sorld! 44 hello,sorld! 45 hello,sorld! 46 hello,sorld! 47 hello,sorld! 48 hello,sorld! 49 hello,sorld! 50 hello,sorld! 51 hello,sorld! 52 hello,sorld! 53 hello,sorld! 54 hello,sorld! 55 hello,sorld! 56 hello,sorld! 57 hello,sorld! 58 hello,sorld! 59 hello,sorld! 60 hello,sorld! 61 hello,sorld! 62 hello,sorld! 63 hello,sorld! 64 hello,sorld! 65 hello,sorld! 66 hello,sorld! 67 hello,sorld! 68 hello,sorld! 69 hello,sorld! 70 hello,sorld! 71 hello,sorld! 72 hello,sorld! 73 hello,sorld! 74 hello,sorld! 75 hello,sorld! 76 hello,sorld! 77 hello,sorld! 78 hello,sorld! 79 hello,sorld! 80 hello,sorld! 81 hello,sorld! 82 hello,sorld! 83 hello,sorld! 84 hello,sorld! 85 hello,sorld! 86 hello,sorld! 87 hello,sorld! 88 hello,sorld! 89 hello,sorld! 90 hello,sorld! 91 hello,sorld! 92 hello,sorld! 93 hello,sorld! 94 hello,sorld! 95 hello,sorld! 96 hello,sorld! 97 hello,sorld! 98 hello,sorld! 99 "
     ]
    }
   ],
   "source": [
    "for i in range(100):\n",
    "    print('hello,sorld!',i,end=\" \")"
   ]
  },
  {
   "cell_type": "code",
   "execution_count": 22,
   "id": "467b26a0",
   "metadata": {},
   "outputs": [
    {
     "name": "stdout",
     "output_type": "stream",
     "text": [
      "hello,world! 5\n",
      "hello,world! 6\n",
      "hello,world! 7\n",
      "hello,world! 8\n",
      "hello,world! 9\n",
      "hello,world! 10\n",
      "hello,world! 11\n"
     ]
    }
   ],
   "source": [
    "for i in range(5, 12): # 5부터 11까지 반복\n",
    "    print('hello,world!', i)"
   ]
  },
  {
   "cell_type": "code",
   "execution_count": 23,
   "id": "4f0e806f",
   "metadata": {},
   "outputs": [
    {
     "name": "stdout",
     "output_type": "stream",
     "text": [
      "hello,world 0\n",
      "hello,world 2\n",
      "hello,world 4\n",
      "hello,world 6\n",
      "hello,world 8\n"
     ]
    }
   ],
   "source": [
    "#for 변수 in range(시작, 끝, 증가폭):\n",
    "for i in range(0,10,2): # 0부터 8까지 2씩 증가\n",
    "    print('hello,world',i)"
   ]
  },
  {
   "cell_type": "code",
   "execution_count": 26,
   "id": "5fc28f16",
   "metadata": {},
   "outputs": [
    {
     "name": "stdout",
     "output_type": "stream",
     "text": [
      "hello,world! 5 두둥 hello,world! 6 두둥 hello,world! 7 두둥 hello,world! 8 두둥 hello,world! 9 두둥 hello,world! 10 두둥 hello,world! 11 두둥 "
     ]
    }
   ],
   "source": [
    "# for 변수 in range(시작,끝):\n",
    "for i in range(5, 12): # 5부터 12까지 반복\n",
    "    print('hello,world!',i, end=\" 두둥 \")"
   ]
  },
  {
   "cell_type": "code",
   "execution_count": 27,
   "id": "25336019",
   "metadata": {},
   "outputs": [
    {
     "name": "stdout",
     "output_type": "stream",
     "text": [
      "hello, world! 0밥 hello, world! 2밥 hello, world! 4밥 hello, world! 6밥 hello, world! 8밥 hello, world! 10밥 "
     ]
    }
   ],
   "source": [
    "#for 변수 in range(시작, 끝, 증가폭):\n",
    "for i in range(0, 12, 2): #0부터 12까지 2씩 증가\n",
    "    print('hello, world!', i , end=\"밥 \")"
   ]
  },
  {
   "cell_type": "code",
   "execution_count": 29,
   "id": "471fb5d3",
   "metadata": {},
   "outputs": [],
   "source": [
    "for i in range(10,0): #range(10,0)은 동작하지 않음\n",
    "    print('hello,world!',i)"
   ]
  },
  {
   "cell_type": "code",
   "execution_count": 31,
   "id": "fc8d4d77",
   "metadata": {},
   "outputs": [
    {
     "name": "stdout",
     "output_type": "stream",
     "text": [
      "10\n",
      "20\n",
      "30\n",
      "40\n",
      "50\n"
     ]
    }
   ],
   "source": [
    "a = [10, 20, 30, 40, 50]\n",
    "for i in a: \n",
    "    print(i)"
   ]
  },
  {
   "cell_type": "code",
   "execution_count": 36,
   "id": "280a29c8",
   "metadata": {},
   "outputs": [
    {
     "name": "stdout",
     "output_type": "stream",
     "text": [
      "apple\n",
      "orange\n",
      "grape\n"
     ]
    }
   ],
   "source": [
    "fruits = ('apple','orange','grape')\n",
    "for fruit in fruits:\n",
    "    print(fruit)"
   ]
  },
  {
   "cell_type": "code",
   "execution_count": null,
   "id": "6380088e",
   "metadata": {},
   "outputs": [],
   "source": []
  }
 ],
 "metadata": {
  "kernelspec": {
   "display_name": "Python 3",
   "language": "python",
   "name": "python3"
  },
  "language_info": {
   "codemirror_mode": {
    "name": "ipython",
    "version": 3
   },
   "file_extension": ".py",
   "mimetype": "text/x-python",
   "name": "python",
   "nbconvert_exporter": "python",
   "pygments_lexer": "ipython3",
   "version": "3.8.8"
  }
 },
 "nbformat": 4,
 "nbformat_minor": 5
}
