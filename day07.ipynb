{
 "cells": [
  {
   "cell_type": "code",
   "execution_count": 27,
   "id": "1d3cfd94",
   "metadata": {},
   "outputs": [
    {
     "name": "stdout",
     "output_type": "stream",
     "text": [
      "안녕하세요~1000원을 받았습니다.사이다사오겠습니다\n",
      "2000\n"
     ]
    }
   ],
   "source": [
    "# 함수의 정의 p424\n",
    "# syntax : \n",
    "# def 함수이름(인수리스트):    *def 는 정의하다(define) 에서 따온 키워드 **인수리스트는 생략 가능\n",
    "#     실행코드\n",
    "#     return 결과값   *값을 반환해야 하는 함수는 실행 후 return문이 들어가줘야 함. \n",
    "\n",
    "def buycoke(money,drink=\"콜라\") :\n",
    "    print(\"안녕하세요~\" + str(money) + \"원을 받았습니다.\" + drink + \"사오겠습니다\")             #함수의 정의 define function\n",
    "    return money  + 1000\n",
    "\n",
    "#badmoney = buycoke(\"콜라\", 1000)                              #함수의 호출 function call\"\n",
    "#print(buycoke (money=1000, drink=\"콜라\")) # 값은 위치를 기준으로 해석됨. \n",
    "                                           #Listing 되어있는 순서대로 값을 기재 그렇지 않을 경우, 인수명을 기재하고 값을 기재\n",
    "print(buycoke (money=1000, drink=\"사이다\"))  #deflut value 가 있지만, 지정을 더 해주면 그것이 추가되어서 들어감\n",
    "\n",
    "# print(badmoney)        \n"
   ]
  },
  {
   "cell_type": "code",
   "execution_count": 17,
   "id": "63dd13b4",
   "metadata": {},
   "outputs": [
    {
     "name": "stdout",
     "output_type": "stream",
     "text": [
      "안녕하세요~3000원을 받았습니다.사이다사오겠습니다\n"
     ]
    },
    {
     "data": {
      "text/plain": [
       "4000"
      ]
     },
     "execution_count": 17,
     "metadata": {},
     "output_type": "execute_result"
    }
   ],
   "source": [
    "buycoke(\"사이다\", 3000)"
   ]
  },
  {
   "cell_type": "code",
   "execution_count": 28,
   "id": "3fa6d35f",
   "metadata": {},
   "outputs": [
    {
     "name": "stdout",
     "output_type": "stream",
     "text": [
      "30\n",
      "10\n"
     ]
    }
   ],
   "source": [
    "#unit29.4 함수에서 값을 여러 개 반환하기 \n",
    "p431\n",
    "def add_sub(a, b):\n",
    "    return a+b, a-b\n",
    "\n",
    "s, d = add_sub(20, 10)   #위치기반으로 a=20 , b=10\n",
    "print(s)\n",
    "print(d)\n"
   ]
  },
  {
   "cell_type": "code",
   "execution_count": 29,
   "id": "9e94ceb3",
   "metadata": {},
   "outputs": [
    {
     "name": "stdout",
     "output_type": "stream",
     "text": [
      "30\n",
      "20\n"
     ]
    }
   ],
   "source": [
    "#function_call.py p.433\n",
    "def mul(a,b):\n",
    "    c = a* b\n",
    "    return c\n",
    "\n",
    "def add(a,b):\n",
    "    c = a + b\n",
    "    print(c)\n",
    "    d = mul(a, b)\n",
    "    print(b)\n",
    "    \n",
    "x = 10\n",
    "y = 20\n",
    "add(x, y)"
   ]
  },
  {
   "cell_type": "code",
   "execution_count": 7,
   "id": "ce3b9733",
   "metadata": {},
   "outputs": [
    {
     "name": "stdout",
     "output_type": "stream",
     "text": [
      "전달받은 n 3\n",
      "전달받은 n 2\n",
      "6\n"
     ]
    }
   ],
   "source": [
    "#unit31 함수에서 재귀호출 사용하기 p.455\n",
    "#함수 안에서 함수 자기 자신을 호출하는 방식을 재귀호출recursive call 이라고 한다\n",
    "\n",
    "#factorial : 계승 (1부터 어떤 양의 정수 n까지의 정수를 모두 곱한 것 ) \n",
    "# N's factorial : N * (N-1) * (N-2) * ... * 1\n",
    "#                N! = N * (N-1)!\n",
    "# recursion : 재귀호출, 함수가 자기자신을 호출하는 것.\n",
    "def fact(n):                   # 재귀함수에 관한 예를 들 때, 거의 Factiorial을 이용함\n",
    "    if n == 1 :\n",
    "        return 1\n",
    "    else :\n",
    "        print(\"전달받은 n \" + str(n))\n",
    "        return n*fact(n-1)\n",
    "    \n",
    "print(fact(3))"
   ]
  },
  {
   "cell_type": "code",
   "execution_count": 8,
   "id": "4b662451",
   "metadata": {},
   "outputs": [
    {
     "name": "stdout",
     "output_type": "stream",
     "text": [
      "15\n"
     ]
    }
   ],
   "source": [
    "#unit32 람다표현식 p.467\n",
    "def plus_ten(x):\n",
    "    return x + 10\n",
    "\n",
    "print(plus_ten(5))"
   ]
  },
  {
   "cell_type": "code",
   "execution_count": 12,
   "id": "120eb8ad",
   "metadata": {},
   "outputs": [],
   "source": [
    "#lambda 매개변수들 : 식 \n",
    "plus_10=lambda x: x + 10\n",
    "    "
   ]
  },
  {
   "cell_type": "code",
   "execution_count": 13,
   "id": "3379547b",
   "metadata": {},
   "outputs": [
    {
     "name": "stdout",
     "output_type": "stream",
     "text": [
      "15\n"
     ]
    }
   ],
   "source": [
    "print(plus_10(5))"
   ]
  },
  {
   "cell_type": "code",
   "execution_count": 15,
   "id": "e59facf5",
   "metadata": {},
   "outputs": [
    {
     "name": "stdout",
     "output_type": "stream",
     "text": [
      "11\n"
     ]
    }
   ],
   "source": [
    "#unit 32.1.1 람다 표현식 자체 호출 p.468\n",
    "print((lambda x: x+ 10)(1)) "
   ]
  },
  {
   "cell_type": "code",
   "execution_count": 3,
   "id": "8bb0f196",
   "metadata": {},
   "outputs": [
    {
     "name": "stdout",
     "output_type": "stream",
     "text": [
      "x in funcA : 10\n"
     ]
    },
    {
     "ename": "NameError",
     "evalue": "name 'x' is not defined",
     "output_type": "error",
     "traceback": [
      "\u001b[1;31m---------------------------------------------------------------------------\u001b[0m",
      "\u001b[1;31mNameError\u001b[0m                                 Traceback (most recent call last)",
      "\u001b[1;32m<ipython-input-3-dc376fc02b48>\u001b[0m in \u001b[0;36m<module>\u001b[1;34m\u001b[0m\n\u001b[0;32m      5\u001b[0m \u001b[1;33m\u001b[0m\u001b[0m\n\u001b[0;32m      6\u001b[0m \u001b[0mfuncA\u001b[0m\u001b[1;33m(\u001b[0m\u001b[1;33m)\u001b[0m\u001b[1;33m\u001b[0m\u001b[1;33m\u001b[0m\u001b[0m\n\u001b[1;32m----> 7\u001b[1;33m \u001b[0mprint\u001b[0m\u001b[1;33m(\u001b[0m\u001b[1;34m\"x in program :\"\u001b[0m\u001b[1;33m,\u001b[0m \u001b[0mx\u001b[0m\u001b[1;33m)\u001b[0m\u001b[1;33m\u001b[0m\u001b[1;33m\u001b[0m\u001b[0m\n\u001b[0m",
      "\u001b[1;31mNameError\u001b[0m: name 'x' is not defined"
     ]
    }
   ],
   "source": [
    "#unit33 클로저 사용하기 p.478\n",
    "def funcA():\n",
    "    x = 10                    # <=요 식 안에서만 유효한 함수 x , x 를 local variable 이라고 함\n",
    "    print(\"x in funcA :\", x)  # 지역변수, 함수 안에서만 유효\n",
    "    \n",
    "funcA()\n",
    "print(\"x in program :\", x)   # x는 무효"
   ]
  },
  {
   "cell_type": "code",
   "execution_count": 7,
   "id": "c30070d7",
   "metadata": {},
   "outputs": [
    {
     "name": "stdout",
     "output_type": "stream",
     "text": [
      "x in funcA : 11\n",
      "x in program : 11\n"
     ]
    }
   ],
   "source": [
    "def funcA():\n",
    "    global x # 전역변수 global scope x를 사용하겠다고 설정\n",
    "    x = 10   # x는 전역 변수\n",
    "    x= x+1\n",
    "    print(\"x in funcA :\", x)  # 전역변수 x 를 가져다 출력한 것\n",
    "    \n",
    "funcA()\n",
    "print(\"x in program :\", x) # 전역변수 x 출력"
   ]
  },
  {
   "cell_type": "code",
   "execution_count": 16,
   "id": "bd0ac140",
   "metadata": {},
   "outputs": [
    {
     "name": "stdout",
     "output_type": "stream",
     "text": [
      "9000\n",
      "안녕하세요제임스입니다\n",
      "안녕하세요홍길동입니다\n"
     ]
    }
   ],
   "source": [
    "#Person class의 정의\n",
    "class Person:\n",
    "    def __init__(self, name):\n",
    "        self.name = name\n",
    "        self.hello = \"안녕하세요\" + name + \"입니다\"\n",
    "        self.__wallet = 10000\n",
    "    def greeting(self):\n",
    "        print(self.hello)\n",
    "    def pay(self, amount):\n",
    "        self.__wallet-=amount\n",
    "        print(self.__wallet)\n",
    "\n",
    "# 객체 생성, instaniate \n",
    "james = Person(\"제임스\")  # 클래스의 이름과 동일한 함수(메서드)는 생성자constructor 라고 한다.\n",
    "                  # 생성자constructor는 클래스로부터 객체를 생성함.\n",
    "james.pay(1000)\n",
    "hong = Person(\"홍길동\")\n",
    "\n",
    "james. greeting()\n",
    "hong. greeting()\n"
   ]
  },
  {
   "cell_type": "code",
   "execution_count": null,
   "id": "fdc694f6",
   "metadata": {},
   "outputs": [],
   "source": []
  }
 ],
 "metadata": {
  "kernelspec": {
   "display_name": "Python 3",
   "language": "python",
   "name": "python3"
  },
  "language_info": {
   "codemirror_mode": {
    "name": "ipython",
    "version": 3
   },
   "file_extension": ".py",
   "mimetype": "text/x-python",
   "name": "python",
   "nbconvert_exporter": "python",
   "pygments_lexer": "ipython3",
   "version": "3.8.8"
  }
 },
 "nbformat": 4,
 "nbformat_minor": 5
}
